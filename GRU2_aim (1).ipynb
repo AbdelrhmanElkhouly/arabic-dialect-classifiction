{
  "cells": [
    {
      "cell_type": "code",
      "execution_count": null,
      "metadata": {
        "id": "lkFNa1krwiXb"
      },
      "outputs": [],
      "source": [
        "import pandas as pd\n",
        "import pandas as pd \n",
        "import numpy as np\n",
        "import string\n",
        "import nltk\n",
        "import re \n",
        "import os \n",
        "import random \n",
        "import matplotlib.pyplot as plt\n",
        "import seaborn as sns \n",
        "from sklearn.feature_extraction.text import CountVectorizer"
      ]
    },
    {
      "cell_type": "code",
      "execution_count": null,
      "metadata": {
        "id": "NBx4ySpWwpQK"
      },
      "outputs": [],
      "source": [
        "df = pd.read_csv(\"/content/drive/MyDrive/all_data.csv\" , lineterminator='\\n')"
      ]
    },
    {
      "cell_type": "code",
      "execution_count": null,
      "metadata": {
        "colab": {
          "base_uri": "https://localhost:8080/"
        },
        "id": "tFaHEnhFwvqQ",
        "outputId": "4f5e17fe-4272-4474-887d-65e916a37e8f"
      },
      "outputs": [
        {
          "name": "stdout",
          "output_type": "stream",
          "text": [
            "[nltk_data] Downloading package wordnet to /root/nltk_data...\n",
            "[nltk_data]   Unzipping corpora/wordnet.zip.\n"
          ]
        },
        {
          "data": {
            "text/plain": [
              "True"
            ]
          },
          "execution_count": 4,
          "metadata": {},
          "output_type": "execute_result"
        }
      ],
      "source": [
        "import nltk\n",
        "nltk.download('wordnet')"
      ]
    },
    {
      "cell_type": "code",
      "execution_count": null,
      "metadata": {
        "id": "z5G9xXrYwzwg"
      },
      "outputs": [],
      "source": [
        "arabic_punctuations = '''`÷×؛<>_()*&^%][ـ،/:\"؟.,'{}~¦+|!”…“–ـ'''\n",
        "english_punctuations = string.punctuation\n",
        "punctuations_list = arabic_punctuations + english_punctuations\n",
        "\n",
        "def remove_punctuations(text):\n",
        "    translator = str.maketrans('', '', punctuations_list)\n",
        "    return text.translate(translator)"
      ]
    },
    {
      "cell_type": "code",
      "execution_count": null,
      "metadata": {
        "id": "QJXQxd_cw3jX"
      },
      "outputs": [],
      "source": [
        "def normalize_arabic(text):\n",
        "    text = re.sub(\"[إأآا]\", \"ا\", text)\n",
        "    text = re.sub(\"ى\", \"ي\", text)\n",
        "    text = re.sub(\"ه\", \"ه\", text)\n",
        "    text = re.sub(\"گ\", \"ك\", text)\n",
        "    return text"
      ]
    },
    {
      "cell_type": "code",
      "execution_count": null,
      "metadata": {
        "id": "phKSrRsLw5Xr"
      },
      "outputs": [],
      "source": [
        "def remove_repeating_char(text):\n",
        "    return re.sub(r'(.)\\1+', r'\\1', text)"
      ]
    },
    {
      "cell_type": "code",
      "execution_count": null,
      "metadata": {
        "id": "9_FPisC1w7No"
      },
      "outputs": [],
      "source": [
        "def nospecial(text):\n",
        "\timport re\n",
        "\ttext = re.sub(\"[a-zA-Z0-9]+\", \"\",text)\n",
        "\treturn text"
      ]
    },
    {
      "cell_type": "code",
      "execution_count": null,
      "metadata": {
        "id": "Slr6pRdDw8s6"
      },
      "outputs": [],
      "source": [
        "def preprocess_text(tweet): \n",
        "\n",
        "    #remove emoji\n",
        "    emoji_pattern = re.compile(\"[\"\n",
        "        u\"\\U0001F600-\\U0001F64F\"  # emoticons\n",
        "        u\"\\U0001F300-\\U0001F5FF\"  # symbols & pictographs\n",
        "        u\"\\U0001F680-\\U0001F6FF\"  # transport & map symbols\n",
        "        u\"\\U0001F1E0-\\U0001F1FF\"  # flags (iOS)\n",
        "                           \"]+\", flags=re.UNICODE)\n",
        "    tweet = emoji_pattern.sub(r'', tweet)\n",
        "    \n",
        "  \n",
        "    #remove tashkeel\n",
        "    p_tashkeel = re.compile(r'[\\u0617-\\u061A\\u064B-\\u0652]')\n",
        "    tweet = re.sub(p_tashkeel,\"\", tweet)\n",
        "\n",
        "    #Replace @username with empty string\n",
        "    tweet = re.sub('@[^\\s]+', ' ', tweet)\n",
        "    \n",
        "    #Convert www.* or https?://* to \" \"\n",
        "    tweet = re.sub('((www\\.[^\\s]+)|(https?://[^\\s]+))',' ',tweet)\n",
        "    \n",
        "    #Replace #word with word\n",
        "    tweet = re.sub(r'#([^\\s]+)', r'\\1', tweet)\n",
        "\n",
        "    # remove punctuations\n",
        "    tweet= remove_punctuations(tweet)\n",
        "    \n",
        "    # normalize the tweet\n",
        "     #tweet= normalize_arabic(tweet)\n",
        "    \n",
        "    # remove repeated letters\n",
        "    tweet=remove_repeating_char(tweet)\n",
        "\n",
        "    #remove non arabic words\n",
        "    tweet = nospecial(tweet)\n",
        "\n",
        "    #trim    \n",
        "    tweet = tweet.strip()\n",
        "\n",
        "    #   #text stemming\n",
        "    # from nltk.stem.isri import ISRIStemmer\n",
        "    # st = ISRIStemmer()\n",
        "    # ISRIStemmer().suf32(tweet)\n",
        "    \n",
        "    return tweet"
      ]
    },
    {
      "cell_type": "code",
      "execution_count": null,
      "metadata": {
        "colab": {
          "base_uri": "https://localhost:8080/",
          "height": 206
        },
        "id": "G4if3wxmw-hi",
        "outputId": "583c9551-1112-4a04-9b08-e9164b4d7404"
      },
      "outputs": [
        {
          "data": {
            "text/html": [
              "\n",
              "  <div id=\"df-4340a8a5-a6f0-4960-9321-2bad28a3afb6\">\n",
              "    <div class=\"colab-df-container\">\n",
              "      <div>\n",
              "<style scoped>\n",
              "    .dataframe tbody tr th:only-of-type {\n",
              "        vertical-align: middle;\n",
              "    }\n",
              "\n",
              "    .dataframe tbody tr th {\n",
              "        vertical-align: top;\n",
              "    }\n",
              "\n",
              "    .dataframe thead th {\n",
              "        text-align: right;\n",
              "    }\n",
              "</style>\n",
              "<table border=\"1\" class=\"dataframe\">\n",
              "  <thead>\n",
              "    <tr style=\"text-align: right;\">\n",
              "      <th></th>\n",
              "      <th>id</th>\n",
              "      <th>tweets</th>\n",
              "      <th>dialect</th>\n",
              "    </tr>\n",
              "  </thead>\n",
              "  <tbody>\n",
              "    <tr>\n",
              "      <th>0</th>\n",
              "      <td>1175358310087892992</td>\n",
              "      <td>لكن بالنهاية ينتفض يغير</td>\n",
              "      <td>IQ</td>\n",
              "    </tr>\n",
              "    <tr>\n",
              "      <th>1</th>\n",
              "      <td>1175416117793349632</td>\n",
              "      <td>يعني هذا محسوب على البشر حيونه وحشيه وتطلبون م...</td>\n",
              "      <td>IQ</td>\n",
              "    </tr>\n",
              "    <tr>\n",
              "      <th>2</th>\n",
              "      <td>1175450108898565888</td>\n",
              "      <td>مبين من كلامه خليجي</td>\n",
              "      <td>IQ</td>\n",
              "    </tr>\n",
              "    <tr>\n",
              "      <th>3</th>\n",
              "      <td>1175471073770573824</td>\n",
              "      <td>يسلملي مرورك وروحك الحلوه</td>\n",
              "      <td>IQ</td>\n",
              "    </tr>\n",
              "    <tr>\n",
              "      <th>4</th>\n",
              "      <td>1175496913145217024</td>\n",
              "      <td>وين هل الغيبه اخ محمد</td>\n",
              "      <td>IQ</td>\n",
              "    </tr>\n",
              "  </tbody>\n",
              "</table>\n",
              "</div>\n",
              "      <button class=\"colab-df-convert\" onclick=\"convertToInteractive('df-4340a8a5-a6f0-4960-9321-2bad28a3afb6')\"\n",
              "              title=\"Convert this dataframe to an interactive table.\"\n",
              "              style=\"display:none;\">\n",
              "        \n",
              "  <svg xmlns=\"http://www.w3.org/2000/svg\" height=\"24px\"viewBox=\"0 0 24 24\"\n",
              "       width=\"24px\">\n",
              "    <path d=\"M0 0h24v24H0V0z\" fill=\"none\"/>\n",
              "    <path d=\"M18.56 5.44l.94 2.06.94-2.06 2.06-.94-2.06-.94-.94-2.06-.94 2.06-2.06.94zm-11 1L8.5 8.5l.94-2.06 2.06-.94-2.06-.94L8.5 2.5l-.94 2.06-2.06.94zm10 10l.94 2.06.94-2.06 2.06-.94-2.06-.94-.94-2.06-.94 2.06-2.06.94z\"/><path d=\"M17.41 7.96l-1.37-1.37c-.4-.4-.92-.59-1.43-.59-.52 0-1.04.2-1.43.59L10.3 9.45l-7.72 7.72c-.78.78-.78 2.05 0 2.83L4 21.41c.39.39.9.59 1.41.59.51 0 1.02-.2 1.41-.59l7.78-7.78 2.81-2.81c.8-.78.8-2.07 0-2.86zM5.41 20L4 18.59l7.72-7.72 1.47 1.35L5.41 20z\"/>\n",
              "  </svg>\n",
              "      </button>\n",
              "      \n",
              "  <style>\n",
              "    .colab-df-container {\n",
              "      display:flex;\n",
              "      flex-wrap:wrap;\n",
              "      gap: 12px;\n",
              "    }\n",
              "\n",
              "    .colab-df-convert {\n",
              "      background-color: #E8F0FE;\n",
              "      border: none;\n",
              "      border-radius: 50%;\n",
              "      cursor: pointer;\n",
              "      display: none;\n",
              "      fill: #1967D2;\n",
              "      height: 32px;\n",
              "      padding: 0 0 0 0;\n",
              "      width: 32px;\n",
              "    }\n",
              "\n",
              "    .colab-df-convert:hover {\n",
              "      background-color: #E2EBFA;\n",
              "      box-shadow: 0px 1px 2px rgba(60, 64, 67, 0.3), 0px 1px 3px 1px rgba(60, 64, 67, 0.15);\n",
              "      fill: #174EA6;\n",
              "    }\n",
              "\n",
              "    [theme=dark] .colab-df-convert {\n",
              "      background-color: #3B4455;\n",
              "      fill: #D2E3FC;\n",
              "    }\n",
              "\n",
              "    [theme=dark] .colab-df-convert:hover {\n",
              "      background-color: #434B5C;\n",
              "      box-shadow: 0px 1px 3px 1px rgba(0, 0, 0, 0.15);\n",
              "      filter: drop-shadow(0px 1px 2px rgba(0, 0, 0, 0.3));\n",
              "      fill: #FFFFFF;\n",
              "    }\n",
              "  </style>\n",
              "\n",
              "      <script>\n",
              "        const buttonEl =\n",
              "          document.querySelector('#df-4340a8a5-a6f0-4960-9321-2bad28a3afb6 button.colab-df-convert');\n",
              "        buttonEl.style.display =\n",
              "          google.colab.kernel.accessAllowed ? 'block' : 'none';\n",
              "\n",
              "        async function convertToInteractive(key) {\n",
              "          const element = document.querySelector('#df-4340a8a5-a6f0-4960-9321-2bad28a3afb6');\n",
              "          const dataTable =\n",
              "            await google.colab.kernel.invokeFunction('convertToInteractive',\n",
              "                                                     [key], {});\n",
              "          if (!dataTable) return;\n",
              "\n",
              "          const docLinkHtml = 'Like what you see? Visit the ' +\n",
              "            '<a target=\"_blank\" href=https://colab.research.google.com/notebooks/data_table.ipynb>data table notebook</a>'\n",
              "            + ' to learn more about interactive tables.';\n",
              "          element.innerHTML = '';\n",
              "          dataTable['output_type'] = 'display_data';\n",
              "          await google.colab.output.renderOutput(dataTable, element);\n",
              "          const docLink = document.createElement('div');\n",
              "          docLink.innerHTML = docLinkHtml;\n",
              "          element.appendChild(docLink);\n",
              "        }\n",
              "      </script>\n",
              "    </div>\n",
              "  </div>\n",
              "  "
            ],
            "text/plain": [
              "                    id                                             tweets  \\\n",
              "0  1175358310087892992                            لكن بالنهاية ينتفض يغير   \n",
              "1  1175416117793349632  يعني هذا محسوب على البشر حيونه وحشيه وتطلبون م...   \n",
              "2  1175450108898565888                                مبين من كلامه خليجي   \n",
              "3  1175471073770573824                          يسلملي مرورك وروحك الحلوه   \n",
              "4  1175496913145217024                              وين هل الغيبه اخ محمد   \n",
              "\n",
              "  dialect  \n",
              "0      IQ  \n",
              "1      IQ  \n",
              "2      IQ  \n",
              "3      IQ  \n",
              "4      IQ  "
            ]
          },
          "execution_count": 10,
          "metadata": {},
          "output_type": "execute_result"
        }
      ],
      "source": [
        "df.tweets = df.tweets.map(preprocess_text)\n",
        "df.head()"
      ]
    },
    {
      "cell_type": "code",
      "execution_count": null,
      "metadata": {
        "colab": {
          "base_uri": "https://localhost:8080/",
          "height": 206
        },
        "id": "rIsNjHW3xQUd",
        "outputId": "9e7b167b-e64c-4766-e170-3662a3e0aa9f"
      },
      "outputs": [
        {
          "data": {
            "text/html": [
              "\n",
              "  <div id=\"df-19dd6757-ab47-4956-9c04-ad63f2230ab0\">\n",
              "    <div class=\"colab-df-container\">\n",
              "      <div>\n",
              "<style scoped>\n",
              "    .dataframe tbody tr th:only-of-type {\n",
              "        vertical-align: middle;\n",
              "    }\n",
              "\n",
              "    .dataframe tbody tr th {\n",
              "        vertical-align: top;\n",
              "    }\n",
              "\n",
              "    .dataframe thead th {\n",
              "        text-align: right;\n",
              "    }\n",
              "</style>\n",
              "<table border=\"1\" class=\"dataframe\">\n",
              "  <thead>\n",
              "    <tr style=\"text-align: right;\">\n",
              "      <th></th>\n",
              "      <th>id</th>\n",
              "      <th>tweets</th>\n",
              "      <th>dialect</th>\n",
              "    </tr>\n",
              "  </thead>\n",
              "  <tbody>\n",
              "    <tr>\n",
              "      <th>0</th>\n",
              "      <td>1175358310087892992</td>\n",
              "      <td>لكن بالنهاية ينتفض يغير</td>\n",
              "      <td>IQ</td>\n",
              "    </tr>\n",
              "    <tr>\n",
              "      <th>1</th>\n",
              "      <td>1175416117793349632</td>\n",
              "      <td>يعني هذا محسوب على البشر حيونه وحشيه وتطلبون م...</td>\n",
              "      <td>IQ</td>\n",
              "    </tr>\n",
              "    <tr>\n",
              "      <th>2</th>\n",
              "      <td>1175450108898565888</td>\n",
              "      <td>مبين من كلامه خليجي</td>\n",
              "      <td>IQ</td>\n",
              "    </tr>\n",
              "    <tr>\n",
              "      <th>3</th>\n",
              "      <td>1175471073770573824</td>\n",
              "      <td>يسلملي مرورك وروحك الحلوه</td>\n",
              "      <td>IQ</td>\n",
              "    </tr>\n",
              "    <tr>\n",
              "      <th>4</th>\n",
              "      <td>1175496913145217024</td>\n",
              "      <td>وين هل الغيبه اخ محمد</td>\n",
              "      <td>IQ</td>\n",
              "    </tr>\n",
              "  </tbody>\n",
              "</table>\n",
              "</div>\n",
              "      <button class=\"colab-df-convert\" onclick=\"convertToInteractive('df-19dd6757-ab47-4956-9c04-ad63f2230ab0')\"\n",
              "              title=\"Convert this dataframe to an interactive table.\"\n",
              "              style=\"display:none;\">\n",
              "        \n",
              "  <svg xmlns=\"http://www.w3.org/2000/svg\" height=\"24px\"viewBox=\"0 0 24 24\"\n",
              "       width=\"24px\">\n",
              "    <path d=\"M0 0h24v24H0V0z\" fill=\"none\"/>\n",
              "    <path d=\"M18.56 5.44l.94 2.06.94-2.06 2.06-.94-2.06-.94-.94-2.06-.94 2.06-2.06.94zm-11 1L8.5 8.5l.94-2.06 2.06-.94-2.06-.94L8.5 2.5l-.94 2.06-2.06.94zm10 10l.94 2.06.94-2.06 2.06-.94-2.06-.94-.94-2.06-.94 2.06-2.06.94z\"/><path d=\"M17.41 7.96l-1.37-1.37c-.4-.4-.92-.59-1.43-.59-.52 0-1.04.2-1.43.59L10.3 9.45l-7.72 7.72c-.78.78-.78 2.05 0 2.83L4 21.41c.39.39.9.59 1.41.59.51 0 1.02-.2 1.41-.59l7.78-7.78 2.81-2.81c.8-.78.8-2.07 0-2.86zM5.41 20L4 18.59l7.72-7.72 1.47 1.35L5.41 20z\"/>\n",
              "  </svg>\n",
              "      </button>\n",
              "      \n",
              "  <style>\n",
              "    .colab-df-container {\n",
              "      display:flex;\n",
              "      flex-wrap:wrap;\n",
              "      gap: 12px;\n",
              "    }\n",
              "\n",
              "    .colab-df-convert {\n",
              "      background-color: #E8F0FE;\n",
              "      border: none;\n",
              "      border-radius: 50%;\n",
              "      cursor: pointer;\n",
              "      display: none;\n",
              "      fill: #1967D2;\n",
              "      height: 32px;\n",
              "      padding: 0 0 0 0;\n",
              "      width: 32px;\n",
              "    }\n",
              "\n",
              "    .colab-df-convert:hover {\n",
              "      background-color: #E2EBFA;\n",
              "      box-shadow: 0px 1px 2px rgba(60, 64, 67, 0.3), 0px 1px 3px 1px rgba(60, 64, 67, 0.15);\n",
              "      fill: #174EA6;\n",
              "    }\n",
              "\n",
              "    [theme=dark] .colab-df-convert {\n",
              "      background-color: #3B4455;\n",
              "      fill: #D2E3FC;\n",
              "    }\n",
              "\n",
              "    [theme=dark] .colab-df-convert:hover {\n",
              "      background-color: #434B5C;\n",
              "      box-shadow: 0px 1px 3px 1px rgba(0, 0, 0, 0.15);\n",
              "      filter: drop-shadow(0px 1px 2px rgba(0, 0, 0, 0.3));\n",
              "      fill: #FFFFFF;\n",
              "    }\n",
              "  </style>\n",
              "\n",
              "      <script>\n",
              "        const buttonEl =\n",
              "          document.querySelector('#df-19dd6757-ab47-4956-9c04-ad63f2230ab0 button.colab-df-convert');\n",
              "        buttonEl.style.display =\n",
              "          google.colab.kernel.accessAllowed ? 'block' : 'none';\n",
              "\n",
              "        async function convertToInteractive(key) {\n",
              "          const element = document.querySelector('#df-19dd6757-ab47-4956-9c04-ad63f2230ab0');\n",
              "          const dataTable =\n",
              "            await google.colab.kernel.invokeFunction('convertToInteractive',\n",
              "                                                     [key], {});\n",
              "          if (!dataTable) return;\n",
              "\n",
              "          const docLinkHtml = 'Like what you see? Visit the ' +\n",
              "            '<a target=\"_blank\" href=https://colab.research.google.com/notebooks/data_table.ipynb>data table notebook</a>'\n",
              "            + ' to learn more about interactive tables.';\n",
              "          element.innerHTML = '';\n",
              "          dataTable['output_type'] = 'display_data';\n",
              "          await google.colab.output.renderOutput(dataTable, element);\n",
              "          const docLink = document.createElement('div');\n",
              "          docLink.innerHTML = docLinkHtml;\n",
              "          element.appendChild(docLink);\n",
              "        }\n",
              "      </script>\n",
              "    </div>\n",
              "  </div>\n",
              "  "
            ],
            "text/plain": [
              "                    id                                             tweets  \\\n",
              "0  1175358310087892992                            لكن بالنهاية ينتفض يغير   \n",
              "1  1175416117793349632  يعني هذا محسوب على البشر حيونه وحشيه وتطلبون م...   \n",
              "2  1175450108898565888                                مبين من كلامه خليجي   \n",
              "3  1175471073770573824                          يسلملي مرورك وروحك الحلوه   \n",
              "4  1175496913145217024                              وين هل الغيبه اخ محمد   \n",
              "\n",
              "  dialect  \n",
              "0      IQ  \n",
              "1      IQ  \n",
              "2      IQ  \n",
              "3      IQ  \n",
              "4      IQ  "
            ]
          },
          "execution_count": 11,
          "metadata": {},
          "output_type": "execute_result"
        }
      ],
      "source": [
        "df.head()"
      ]
    },
    {
      "cell_type": "code",
      "execution_count": null,
      "metadata": {
        "id": "l83bd0IZxSCl"
      },
      "outputs": [],
      "source": [
        "## Load the data to get started\n",
        "import pandas as pd\n",
        "import numpy as np\n",
        "import tensorflow as tf\n",
        "import spacy\n",
        "import numpy as np # linear algebra\n",
        "import pandas as pd # data processing, CSV file I/O (e.g. pd.read_csv)\n",
        "from sklearn.feature_extraction.text import CountVectorizer\n",
        "from keras.preprocessing.text import Tokenizer\n",
        "from keras.preprocessing.sequence import pad_sequences\n",
        "from keras.models import Sequential\n",
        "from keras.layers import Dense, Embedding, LSTM, SpatialDropout1D\n",
        "from sklearn.model_selection import train_test_split\n",
        "from keras.utils.np_utils import to_categorical\n",
        "import re\n",
        "import keras"
      ]
    },
    {
      "cell_type": "code",
      "execution_count": null,
      "metadata": {
        "id": "fiXCwZ4mxX00"
      },
      "outputs": [],
      "source": [
        "max_fatures = 100000\n",
        "tokenizer = Tokenizer(num_words = max_fatures , split=' ')\n",
        "tokenizer.fit_on_texts(df['tweets'].values)\n",
        "X = tokenizer.texts_to_sequences(df['tweets'].values)\n",
        "X = pad_sequences(X)"
      ]
    },
    {
      "cell_type": "code",
      "execution_count": null,
      "metadata": {
        "colab": {
          "base_uri": "https://localhost:8080/"
        },
        "id": "VO7eZa_PT5g9",
        "outputId": "4e56c6b6-3630-48cc-8d37-c5e371fd7ad8"
      },
      "outputs": [
        {
          "name": "stdout",
          "output_type": "stream",
          "text": [
            "Mounted at /content/drive\n"
          ]
        }
      ],
      "source": [
        "from google.colab import drive\n",
        "drive.mount('/content/drive')"
      ]
    },
    {
      "cell_type": "code",
      "execution_count": null,
      "metadata": {
        "id": "zDX4eT5zxfmT"
      },
      "outputs": [],
      "source": [
        "y = pd.get_dummies(df['dialect']).values"
      ]
    },
    {
      "cell_type": "code",
      "execution_count": null,
      "metadata": {
        "id": "Y5I5YADFxh7P"
      },
      "outputs": [],
      "source": [
        "embed_dim = 128\n",
        "gru_out = 196"
      ]
    },
    {
      "cell_type": "code",
      "execution_count": null,
      "metadata": {
        "id": "CIAMo9TXyCej"
      },
      "outputs": [],
      "source": [
        "from tensorflow.keras.optimizers import SGD\n",
        "from keras.models import Sequential\n",
        "from keras.layers import Embedding\n",
        "from keras.layers import Dense, Dropout, GRU, Bidirectional\n",
        "import math\n",
        "from sklearn.metrics import mean_squared_error"
      ]
    },
    {
      "cell_type": "code",
      "execution_count": null,
      "metadata": {
        "colab": {
          "base_uri": "https://localhost:8080/"
        },
        "id": "-AhcWgGZyExs",
        "outputId": "75a068e7-304e-4b81-9933-166f3056fd41"
      },
      "outputs": [
        {
          "name": "stdout",
          "output_type": "stream",
          "text": [
            "Model: \"sequential\"\n",
            "_________________________________________________________________\n",
            " Layer (type)                Output Shape              Param #   \n",
            "=================================================================\n",
            " embedding (Embedding)       (None, 87, 128)           12800000  \n",
            "                                                                 \n",
            " spatial_dropout1d (SpatialD  (None, 87, 128)          0         \n",
            " ropout1D)                                                       \n",
            "                                                                 \n",
            " gru (GRU)                   (None, 196)               191688    \n",
            "                                                                 \n",
            " dense (Dense)               (None, 64)                12608     \n",
            "                                                                 \n",
            " dropout (Dropout)           (None, 64)                0         \n",
            "                                                                 \n",
            " dense_1 (Dense)             (None, 32)                2080      \n",
            "                                                                 \n",
            " dense_2 (Dense)             (None, 18)                594       \n",
            "                                                                 \n",
            "=================================================================\n",
            "Total params: 13,006,970\n",
            "Trainable params: 13,006,970\n",
            "Non-trainable params: 0\n",
            "_________________________________________________________________\n",
            "None\n"
          ]
        }
      ],
      "source": [
        "embed_dim = 128\n",
        "gru_out = 196\n",
        "model = Sequential()\n",
        "model.add(Embedding(max_fatures, embed_dim,input_length = X.shape[1]))\n",
        "model.add(SpatialDropout1D(0.4))\n",
        "model.add(GRU(gru_out, dropout=0.2, recurrent_dropout=0.2))\n",
        "\n",
        "\n",
        "model.add(tf.keras.layers.Dense(64 , activation='relu'))\n",
        "model.add(Dropout(0.2))\n",
        "model.add(tf.keras.layers.Dense(32 , activation='relu'))\n",
        "model.add(Dense(18,activation='softmax'))\n",
        "\n",
        "model.compile(loss = 'categorical_crossentropy', optimizer='adam',metrics = ['accuracy'])\n",
        "\n",
        "print(model.summary())"
      ]
    },
    {
      "cell_type": "code",
      "execution_count": null,
      "metadata": {
        "colab": {
          "base_uri": "https://localhost:8080/"
        },
        "id": "Z9q4x_gZyVQU",
        "outputId": "67a182d9-acbb-4333-d245-639371b32ac3"
      },
      "outputs": [
        {
          "name": "stdout",
          "output_type": "stream",
          "text": [
            "(449033, 87) (449033, 18)\n",
            "(9164, 87) (9164, 18)\n"
          ]
        }
      ],
      "source": [
        "Y = pd.get_dummies(df['dialect']).values\n",
        "X_train, X_test, Y_train, Y_test = train_test_split(X,Y, test_size = 0.02, random_state = 42 , shuffle=True)\n",
        "print(X_train.shape,Y_train.shape)\n",
        "print(X_test.shape,Y_test.shape)"
      ]
    },
    {
      "cell_type": "code",
      "execution_count": null,
      "metadata": {
        "colab": {
          "background_save": true,
          "base_uri": "https://localhost:8080/"
        },
        "id": "K44dR4WKyVXJ",
        "outputId": "d94ed04a-e3fc-4454-d90d-f03342961535"
      },
      "outputs": [
        {
          "name": "stdout",
          "output_type": "stream",
          "text": [
            "Epoch 1/10\n",
            "3438/3438 [==============================] - 3722s 1s/step - loss: 1.9669 - accuracy: 0.3711 - val_loss: 1.6609 - val_accuracy: 0.4662\n",
            "Epoch 2/10\n",
            "3438/3438 [==============================] - 3747s 1s/step - loss: 1.5324 - accuracy: 0.5180 - val_loss: 1.5338 - val_accuracy: 0.5198\n",
            "Epoch 3/10\n",
            "3438/3438 [==============================] - 3710s 1s/step - loss: 1.3273 - accuracy: 0.5861 - val_loss: 1.5227 - val_accuracy: 0.5315\n",
            "Epoch 4/10\n",
            "3438/3438 [==============================] - 3759s 1s/step - loss: 1.1814 - accuracy: 0.6332 - val_loss: 1.5574 - val_accuracy: 0.5321\n",
            "Epoch 5/10\n",
            "3438/3438 [==============================] - 3750s 1s/step - loss: 1.0728 - accuracy: 0.6676 - val_loss: 1.6107 - val_accuracy: 0.5315\n",
            "Epoch 6/10\n",
            "3438/3438 [==============================] - 3735s 1s/step - loss: 0.9846 - accuracy: 0.6951 - val_loss: 1.6735 - val_accuracy: 0.5309\n"
          ]
        }
      ],
      "source": [
        "# Creat checkpoint to save model at the end of each epoch:\n",
        "checkpoint_cb = keras.callbacks.ModelCheckpoint(\"my_keras_model.h5\", save_best_only=True)\n",
        "\n",
        "# Creat EarlyStopping checkpoint:\n",
        "early_stopping_cb = keras.callbacks.EarlyStopping(patience=3, restore_best_weights=True)\n",
        "\n",
        "history = model.fit(X_train, Y_train, epochs = 10 , validation_split = 0.02 , callbacks=[checkpoint_cb, early_stopping_cb], batch_size = 128)"
      ]
    },
    {
      "cell_type": "code",
      "execution_count": null,
      "metadata": {
        "colab": {
          "background_save": true
        },
        "id": "Ilur_e5zyWJD",
        "outputId": "77f7f951-cff0-4281-c289-27fc104e51c8"
      },
      "outputs": [
        {
          "data": {
            "image/png": "[encoded data removed]",
            "text/plain": [
              "<Figure size 720x360 with 1 Axes>"
            ]
          },
          "metadata": {},
          "output_type": "display_data"
        }
      ],
      "source": [
        "import pandas as pd\n",
        "import matplotlib.pyplot as plt\n",
        "\n",
        "learning_data = pd.DataFrame(history.history)\n",
        "# learning_data.head()\n",
        "learning_data.plot(figsize=(10,5))\n",
        "plt.grid(True)\n",
        "plt.show()"
      ]
    },
    {
      "cell_type": "code",
      "execution_count": null,
      "metadata": {
        "colab": {
          "background_save": true
        },
        "id": "Dhe6C_LHyl0s"
      },
      "outputs": [],
      "source": [
        "from sklearn.metrics import classification_report, confusion_matrix"
      ]
    },
    {
      "cell_type": "code",
      "execution_count": null,
      "metadata": {
        "colab": {
          "background_save": true
        },
        "id": "saH9OwWcyoXv"
      },
      "outputs": [],
      "source": [
        "Y_pred = model.predict(X_test) "
      ]
    },
    {
      "cell_type": "code",
      "execution_count": null,
      "metadata": {
        "colab": {
          "background_save": true
        },
        "id": "DEkBptMiRsDw"
      },
      "outputs": [],
      "source": [
        "classes_x = np.argmax(Y_pred,axis=1)"
      ]
    },
    {
      "cell_type": "code",
      "execution_count": null,
      "metadata": {
        "colab": {
          "background_save": true
        },
        "id": "3FbgaJVXRuX4",
        "outputId": "ff1c3d59-59af-4a3e-d5d4-48a366715b1f"
      },
      "outputs": [
        {
          "data": {
            "text/plain": [
              "array([13,  6,  8, ...,  0,  3, 13])"
            ]
          },
          "execution_count": null,
          "metadata": {},
          "output_type": "execute_result"
        }
      ],
      "source": [
        "classes_x"
      ]
    },
    {
      "cell_type": "code",
      "execution_count": null,
      "metadata": {
        "colab": {
          "background_save": true
        },
        "id": "q4vxA25sRwnQ",
        "outputId": "ddb1f080-b555-4e2a-f616-e4fd2282bb5f"
      },
      "outputs": [
        {
          "data": {
            "text/plain": [
              "array([[1.0143884e-05, 3.3124052e-05, 1.1118524e-05, ..., 1.6894215e-05,\n",
              "        1.6968928e-05, 2.5370270e-03],\n",
              "       [4.4781640e-02, 1.0780443e-01, 2.4531593e-03, ..., 1.0600042e-02,\n",
              "        9.0138009e-04, 1.7853193e-02],\n",
              "       [6.9264382e-02, 4.7746167e-02, 4.8035651e-02, ..., 1.0993466e-02,\n",
              "        3.8097896e-02, 7.7932872e-02],\n",
              "       ...,\n",
              "       [6.9344139e-01, 2.3265608e-02, 3.8714455e-03, ..., 1.1081690e-03,\n",
              "        4.1388106e-03, 1.2744113e-02],\n",
              "       [1.6001050e-03, 4.1656705e-05, 2.1384783e-04, ..., 1.9695277e-05,\n",
              "        4.1141719e-04, 9.6101656e-05],\n",
              "       [1.5384685e-02, 9.2064768e-02, 1.0783656e-02, ..., 2.2789920e-02,\n",
              "        7.8841746e-03, 8.2502320e-02]], dtype=float32)"
            ]
          },
          "execution_count": null,
          "metadata": {},
          "output_type": "execute_result"
        }
      ],
      "source": [
        "Y_pred"
      ]
    },
    {
      "cell_type": "code",
      "execution_count": null,
      "metadata": {
        "colab": {
          "background_save": true
        },
        "id": "__nK0jKNRyhp",
        "outputId": "7c602138-e4b1-49d9-dc85-3ca00da6eebe"
      },
      "outputs": [
        {
          "data": {
            "text/plain": [
              "array([[0, 0, 0, ..., 0, 0, 0],\n",
              "       [0, 0, 0, ..., 0, 0, 0],\n",
              "       [0, 0, 0, ..., 0, 0, 0],\n",
              "       ...,\n",
              "       [1, 0, 0, ..., 0, 0, 0],\n",
              "       [0, 0, 0, ..., 0, 0, 0],\n",
              "       [0, 0, 0, ..., 0, 0, 0]], dtype=uint8)"
            ]
          },
          "execution_count": null,
          "metadata": {},
          "output_type": "execute_result"
        }
      ],
      "source": [
        "Y_test"
      ]
    },
    {
      "cell_type": "code",
      "execution_count": null,
      "metadata": {
        "colab": {
          "background_save": true
        },
        "id": "ZD2D4NImR4ft",
        "outputId": "c94e5a60-cf8e-48b0-d3a8-9f2e409ec6dc"
      },
      "outputs": [
        {
          "data": {
            "text/plain": [
              "6"
            ]
          },
          "execution_count": null,
          "metadata": {},
          "output_type": "execute_result"
        }
      ],
      "source": [
        "import numpy as np\n",
        "Y_test_labels=np.argmax(Y_test, axis=1)\n",
        "Y_test_labels[1]"
      ]
    },
    {
      "cell_type": "code",
      "execution_count": null,
      "metadata": {
        "colab": {
          "background_save": true
        },
        "id": "VlR2P-WOR7VF",
        "outputId": "cb14b0bf-9da8-47df-c69e-6569c0a73cd9"
      },
      "outputs": [
        {
          "data": {
            "text/plain": [
              "array([[232,  49,   4,   8,   6,   8,  42,   4,   7,   2,  38,  17,  59,\n",
              "         24,   4,   7,   1,   9],\n",
              "       [ 32, 159,   2,   3,   6,  13,  60,   5,   7,   3,  20,   9,  49,\n",
              "         25,   5,   1,   1,   6],\n",
              "       [  9,   4, 163,   5,   6,   6,   9,   7,  22,  29,   6,   4,   3,\n",
              "          8,   7,   5,  20,   4],\n",
              "       [ 20,  12,  20, 952,   7,  27,   9,  12,  38,  17,   7,  77,  12,\n",
              "         10,  36,   8,  20,   7],\n",
              "       [ 13,  19,   2,   4, 181,  13,  26,   9,   5,   3,   8,  17,  16,\n",
              "         10,   5,  10,   1,   8],\n",
              "       [ 16,  20,  10,   5,  12, 206,  14,  27,   9,   2,  16, 128,   9,\n",
              "         14,   2,  26,   2,   5],\n",
              "       [ 49,  93,   8,  14,  26,  29, 433,   8,  17,   3,  39,  14,  84,\n",
              "         68,   4,  12,   3,  12],\n",
              "       [  5,   9,   6,   6,   4,  31,   4, 386,   8,   1,   4,  42,   5,\n",
              "          1,   6,  75,   5,   4],\n",
              "       [ 23,  16,  23,  31,  10,  23,  21,  12, 492,   4,  18,  21,  11,\n",
              "         21,  14,  10,  12,  17],\n",
              "       [  1,   1,  16,   4,   0,   1,   2,   4,   4, 132,   0,   0,   1,\n",
              "          1,   2,   0,   3,   1],\n",
              "       [ 42,  27,   9,   2,   9,  17,  17,  14,  13,   2, 144,  19,  24,\n",
              "         11,   9,   1,   1,   9],\n",
              "       [ 23,  16,  21,  71,  11, 121,  16,  60,  46,   8,  31, 472,  15,\n",
              "         19,  19,  43,   9,  17],\n",
              "       [ 43,  43,   1,   7,   3,   5,  36,   5,   5,   1,  15,   9, 269,\n",
              "         31,   4,   3,   2,   8],\n",
              "       [ 43,  64,  12,   8,  15,  18,  87,   5,  17,   9,  40,  18,  69,\n",
              "        252,   5,  13,   9,  32],\n",
              "       [  1,   2,   3,  17,   3,   3,   3,   2,  12,   4,   4,   4,   2,\n",
              "          1, 153,   0,   3,   4],\n",
              "       [  0,   2,   3,   2,   8,  22,   4,  36,   3,   2,   3,  31,   0,\n",
              "          4,   5, 107,   1,   3],\n",
              "       [  1,   1,  16,   4,   1,   2,   1,   2,  14,   7,   0,   1,   1,\n",
              "          3,   1,   2,  89,   0],\n",
              "       [  3,   1,   1,   1,   3,   1,   7,   0,   6,   0,   0,   7,   3,\n",
              "         14,   5,   1,   1,  35]])"
            ]
          },
          "execution_count": null,
          "metadata": {},
          "output_type": "execute_result"
        }
      ],
      "source": [
        "from sklearn.metrics import confusion_matrix\n",
        "cm = confusion_matrix(classes_x , Y_test_labels )\n",
        "cm"
      ]
    },
    {
      "cell_type": "code",
      "execution_count": null,
      "metadata": {
        "colab": {
          "background_save": true
        },
        "id": "V_JYdFRqR9Tl",
        "outputId": "d6f324b9-f5bc-46f5-8d4d-b1d7e2d825e3"
      },
      "outputs": [
        {
          "name": "stdout",
          "output_type": "stream",
          "text": [
            "              precision    recall  f1-score   support\n",
            "\n",
            "           0       0.45      0.42      0.43       556\n",
            "           1       0.39      0.30      0.34       538\n",
            "           2       0.51      0.51      0.51       320\n",
            "           3       0.74      0.83      0.78      1144\n",
            "           4       0.52      0.58      0.55       311\n",
            "           5       0.39      0.38      0.39       546\n",
            "           6       0.47      0.55      0.51       791\n",
            "           7       0.64      0.65      0.64       598\n",
            "           8       0.63      0.68      0.65       725\n",
            "           9       0.76      0.58      0.66       229\n",
            "          10       0.39      0.37      0.38       393\n",
            "          11       0.46      0.53      0.49       890\n",
            "          12       0.55      0.43      0.48       632\n",
            "          13       0.35      0.49      0.41       517\n",
            "          14       0.69      0.53      0.60       286\n",
            "          15       0.45      0.33      0.38       324\n",
            "          16       0.61      0.49      0.54       183\n",
            "          17       0.39      0.19      0.26       181\n",
            "\n",
            "    accuracy                           0.53      9164\n",
            "   macro avg       0.52      0.49      0.50      9164\n",
            "weighted avg       0.53      0.53      0.53      9164\n",
            "\n"
          ]
        }
      ],
      "source": [
        "print(classification_report(Y_test_labels, classes_x))"
      ]
    },
    {
      "cell_type": "code",
      "execution_count": null,
      "metadata": {
        "colab": {
          "background_save": true
        },
        "id": "jfP6rml5R_AY"
      },
      "outputs": [],
      "source": [
        "import pickle\n",
        "  # download tokenizer\n",
        "with open('tokenizer.pickle', 'wb')as handle:\n",
        "  pickle. dump(tokenizer, handle, protocol=pickle. HIGHEST_PROTOCOL)                        \n"
      ]
    },
    {
      "cell_type": "code",
      "execution_count": null,
      "metadata": {
        "colab": {
          "background_save": true
        },
        "id": "tgM5z2ywSINc"
      },
      "outputs": [],
      "source": [
        "  # loading.\n",
        "with open('tokenizer.pickle', 'rb') as handle:\n",
        "    tokenizer = pickle. load(handle)"
      ]
    },
    {
      "cell_type": "code",
      "execution_count": null,
      "metadata": {
        "colab": {
          "background_save": true
        },
        "id": "oWgH-zSPSKJA"
      },
      "outputs": [],
      "source": [
        "\n",
        "label_encodding = {\n",
        "    0:\"AE\" , \n",
        "    1:\"BH\" ,\n",
        "    2:\"DZ\",\n",
        "    3:\"EG\",\n",
        "    4:\"IQ\",\n",
        "    5:\"JO\",\n",
        "    6:\"KW\",\n",
        "    7:\"LB\",\n",
        "    8:\"LY\",\n",
        "    9:\"MA\",\n",
        "    10:\"OM\",\n",
        "    11:\"PL\",\n",
        "    12:\"QA\",\n",
        "    13:\"SA\",\n",
        "    14:\"SD\",\n",
        "    15:\"SY\",\n",
        "    16:\"TN\",\n",
        "    17:\"YE\"}"
      ]
    },
    {
      "cell_type": "code",
      "execution_count": null,
      "metadata": {
        "id": "Jh9vEcs1dogm"
      },
      "outputs": [],
      "source": [
        "while True :\n",
        "  pass"
      ]
    },
    {
      "cell_type": "code",
      "execution_count": null,
      "metadata": {
        "id": "d7hn6woAdqXj"
      },
      "outputs": [],
      "source": [
        ""
      ]
    }
  ],
  "metadata": {
    "colab": {
      "collapsed_sections": [],
      "name": "GRU2_aim.ipynb",
      "provenance": []
    },
    "kernelspec": {
      "display_name": "Python 3",
      "name": "python3"
    },
    "language_info": {
      "name": "python"
    }
  },
  "nbformat": 4,
  "nbformat_minor": 0
}