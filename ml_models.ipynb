{
  "metadata": {
    "kernelspec": {
      "language": "python",
      "display_name": "Python 3",
      "name": "python3"
    },
    "language_info": {
      "name": "python",
      "version": "3.7.12",
      "mimetype": "text/x-python",
      "codemirror_mode": {
        "name": "ipython",
        "version": 3
      },
      "pygments_lexer": "ipython3",
      "nbconvert_exporter": "python",
      "file_extension": ".py"
    },
    "colab": {
      "name": "ml-models.ipynb",
      "provenance": [],
      "collapsed_sections": [
        "1V8ssgxcCAu4"
      ]
    }
  },
  "nbformat_minor": 0,
  "nbformat": 4,
  "cells": [
    {
      "cell_type": "code",
      "source": [
        "import pandas as pd\n",
        "import pandas as pd \n",
        "import numpy as np\n",
        "import string\n",
        "import nltk\n",
        "import re \n",
        "import os \n",
        "import random \n",
        "import matplotlib.pyplot as plt\n",
        "import seaborn as sns \n",
        "from sklearn.feature_extraction.text import CountVectorizer"
      ],
      "metadata": {
        "id": "De6HGKE0km6Z",
        "execution": {
          "iopub.status.busy": "2022-03-13T09:21:06.899222Z",
          "iopub.execute_input": "2022-03-13T09:21:06.899531Z",
          "iopub.status.idle": "2022-03-13T09:21:06.905187Z",
          "shell.execute_reply.started": "2022-03-13T09:21:06.899497Z",
          "shell.execute_reply": "2022-03-13T09:21:06.904320Z"
        },
        "trusted": true
      },
      "execution_count": 2,
      "outputs": []
    },
    {
      "cell_type": "code",
      "source": [
        "df = pd.read_csv(\"/content/drive/MyDrive/all_data.csv\" , lineterminator='\\n')"
      ],
      "metadata": {
        "id": "ap00MFBmmFvh",
        "execution": {
          "iopub.status.busy": "2022-03-13T09:21:07.749781Z",
          "iopub.execute_input": "2022-03-13T09:21:07.750250Z",
          "iopub.status.idle": "2022-03-13T09:21:09.540624Z",
          "shell.execute_reply.started": "2022-03-13T09:21:07.750198Z",
          "shell.execute_reply": "2022-03-13T09:21:09.539581Z"
        },
        "trusted": true
      },
      "execution_count": 6,
      "outputs": []
    },
    {
      "cell_type": "code",
      "source": [
        " df.head()"
      ],
      "metadata": {
        "id": "m_iBBSbjmMyp",
        "outputId": "85302b2c-5d87-47ed-ef76-1bb150013e7f",
        "execution": {
          "iopub.status.busy": "2022-03-13T09:21:17.002339Z",
          "iopub.execute_input": "2022-03-13T09:21:17.002658Z",
          "iopub.status.idle": "2022-03-13T09:21:17.013143Z",
          "shell.execute_reply.started": "2022-03-13T09:21:17.002623Z",
          "shell.execute_reply": "2022-03-13T09:21:17.012535Z"
        },
        "trusted": true,
        "colab": {
          "base_uri": "https://localhost:8080/",
          "height": 206
        }
      },
      "execution_count": 7,
      "outputs": [
        {
          "output_type": "execute_result",
          "data": {
            "text/plain": [
              "                    id                                             tweets  \\\n",
              "0  1175358310087892992   @Nw8ieJUwaCAAreT لكن بالنهاية .. ينتفض .. يغير .   \n",
              "1  1175416117793349632  @7zNqXP0yrODdRjK يعني هذا محسوب على البشر .. ح...   \n",
              "2  1175450108898565888                    @KanaanRema مبين من كلامه خليجي   \n",
              "3  1175471073770573824         @HAIDER76128900 يسلملي مرورك وروحك الحلوه💐   \n",
              "4  1175496913145217024                 @hmo2406 وين هل الغيبه  اخ محمد 🌸🌺   \n",
              "\n",
              "  dialect  \n",
              "0      IQ  \n",
              "1      IQ  \n",
              "2      IQ  \n",
              "3      IQ  \n",
              "4      IQ  "
            ],
            "text/html": [
              "\n",
              "  <div id=\"df-81db9b7b-5c18-4e71-a7c7-cff0cc23069e\">\n",
              "    <div class=\"colab-df-container\">\n",
              "      <div>\n",
              "<style scoped>\n",
              "    .dataframe tbody tr th:only-of-type {\n",
              "        vertical-align: middle;\n",
              "    }\n",
              "\n",
              "    .dataframe tbody tr th {\n",
              "        vertical-align: top;\n",
              "    }\n",
              "\n",
              "    .dataframe thead th {\n",
              "        text-align: right;\n",
              "    }\n",
              "</style>\n",
              "<table border=\"1\" class=\"dataframe\">\n",
              "  <thead>\n",
              "    <tr style=\"text-align: right;\">\n",
              "      <th></th>\n",
              "      <th>id</th>\n",
              "      <th>tweets</th>\n",
              "      <th>dialect</th>\n",
              "    </tr>\n",
              "  </thead>\n",
              "  <tbody>\n",
              "    <tr>\n",
              "      <th>0</th>\n",
              "      <td>1175358310087892992</td>\n",
              "      <td>@Nw8ieJUwaCAAreT لكن بالنهاية .. ينتفض .. يغير .</td>\n",
              "      <td>IQ</td>\n",
              "    </tr>\n",
              "    <tr>\n",
              "      <th>1</th>\n",
              "      <td>1175416117793349632</td>\n",
              "      <td>@7zNqXP0yrODdRjK يعني هذا محسوب على البشر .. ح...</td>\n",
              "      <td>IQ</td>\n",
              "    </tr>\n",
              "    <tr>\n",
              "      <th>2</th>\n",
              "      <td>1175450108898565888</td>\n",
              "      <td>@KanaanRema مبين من كلامه خليجي</td>\n",
              "      <td>IQ</td>\n",
              "    </tr>\n",
              "    <tr>\n",
              "      <th>3</th>\n",
              "      <td>1175471073770573824</td>\n",
              "      <td>@HAIDER76128900 يسلملي مرورك وروحك الحلوه💐</td>\n",
              "      <td>IQ</td>\n",
              "    </tr>\n",
              "    <tr>\n",
              "      <th>4</th>\n",
              "      <td>1175496913145217024</td>\n",
              "      <td>@hmo2406 وين هل الغيبه  اخ محمد 🌸🌺</td>\n",
              "      <td>IQ</td>\n",
              "    </tr>\n",
              "  </tbody>\n",
              "</table>\n",
              "</div>\n",
              "      <button class=\"colab-df-convert\" onclick=\"convertToInteractive('df-81db9b7b-5c18-4e71-a7c7-cff0cc23069e')\"\n",
              "              title=\"Convert this dataframe to an interactive table.\"\n",
              "              style=\"display:none;\">\n",
              "        \n",
              "  <svg xmlns=\"http://www.w3.org/2000/svg\" height=\"24px\"viewBox=\"0 0 24 24\"\n",
              "       width=\"24px\">\n",
              "    <path d=\"M0 0h24v24H0V0z\" fill=\"none\"/>\n",
              "    <path d=\"M18.56 5.44l.94 2.06.94-2.06 2.06-.94-2.06-.94-.94-2.06-.94 2.06-2.06.94zm-11 1L8.5 8.5l.94-2.06 2.06-.94-2.06-.94L8.5 2.5l-.94 2.06-2.06.94zm10 10l.94 2.06.94-2.06 2.06-.94-2.06-.94-.94-2.06-.94 2.06-2.06.94z\"/><path d=\"M17.41 7.96l-1.37-1.37c-.4-.4-.92-.59-1.43-.59-.52 0-1.04.2-1.43.59L10.3 9.45l-7.72 7.72c-.78.78-.78 2.05 0 2.83L4 21.41c.39.39.9.59 1.41.59.51 0 1.02-.2 1.41-.59l7.78-7.78 2.81-2.81c.8-.78.8-2.07 0-2.86zM5.41 20L4 18.59l7.72-7.72 1.47 1.35L5.41 20z\"/>\n",
              "  </svg>\n",
              "      </button>\n",
              "      \n",
              "  <style>\n",
              "    .colab-df-container {\n",
              "      display:flex;\n",
              "      flex-wrap:wrap;\n",
              "      gap: 12px;\n",
              "    }\n",
              "\n",
              "    .colab-df-convert {\n",
              "      background-color: #E8F0FE;\n",
              "      border: none;\n",
              "      border-radius: 50%;\n",
              "      cursor: pointer;\n",
              "      display: none;\n",
              "      fill: #1967D2;\n",
              "      height: 32px;\n",
              "      padding: 0 0 0 0;\n",
              "      width: 32px;\n",
              "    }\n",
              "\n",
              "    .colab-df-convert:hover {\n",
              "      background-color: #E2EBFA;\n",
              "      box-shadow: 0px 1px 2px rgba(60, 64, 67, 0.3), 0px 1px 3px 1px rgba(60, 64, 67, 0.15);\n",
              "      fill: #174EA6;\n",
              "    }\n",
              "\n",
              "    [theme=dark] .colab-df-convert {\n",
              "      background-color: #3B4455;\n",
              "      fill: #D2E3FC;\n",
              "    }\n",
              "\n",
              "    [theme=dark] .colab-df-convert:hover {\n",
              "      background-color: #434B5C;\n",
              "      box-shadow: 0px 1px 3px 1px rgba(0, 0, 0, 0.15);\n",
              "      filter: drop-shadow(0px 1px 2px rgba(0, 0, 0, 0.3));\n",
              "      fill: #FFFFFF;\n",
              "    }\n",
              "  </style>\n",
              "\n",
              "      <script>\n",
              "        const buttonEl =\n",
              "          document.querySelector('#df-81db9b7b-5c18-4e71-a7c7-cff0cc23069e button.colab-df-convert');\n",
              "        buttonEl.style.display =\n",
              "          google.colab.kernel.accessAllowed ? 'block' : 'none';\n",
              "\n",
              "        async function convertToInteractive(key) {\n",
              "          const element = document.querySelector('#df-81db9b7b-5c18-4e71-a7c7-cff0cc23069e');\n",
              "          const dataTable =\n",
              "            await google.colab.kernel.invokeFunction('convertToInteractive',\n",
              "                                                     [key], {});\n",
              "          if (!dataTable) return;\n",
              "\n",
              "          const docLinkHtml = 'Like what you see? Visit the ' +\n",
              "            '<a target=\"_blank\" href=https://colab.research.google.com/notebooks/data_table.ipynb>data table notebook</a>'\n",
              "            + ' to learn more about interactive tables.';\n",
              "          element.innerHTML = '';\n",
              "          dataTable['output_type'] = 'display_data';\n",
              "          await google.colab.output.renderOutput(dataTable, element);\n",
              "          const docLink = document.createElement('div');\n",
              "          docLink.innerHTML = docLinkHtml;\n",
              "          element.appendChild(docLink);\n",
              "        }\n",
              "      </script>\n",
              "    </div>\n",
              "  </div>\n",
              "  "
            ]
          },
          "metadata": {},
          "execution_count": 7
        }
      ]
    },
    {
      "cell_type": "code",
      "source": [
        "from google.colab import drive\n",
        "drive.mount('/content/drive')"
      ],
      "metadata": {
        "colab": {
          "base_uri": "https://localhost:8080/"
        },
        "id": "ikRE-wwqCVGj",
        "outputId": "44036101-233e-4c3a-f0a5-032a1af1a760"
      },
      "execution_count": 5,
      "outputs": [
        {
          "output_type": "stream",
          "name": "stdout",
          "text": [
            "Mounted at /content/drive\n"
          ]
        }
      ]
    },
    {
      "cell_type": "code",
      "source": [
        "df.info()"
      ],
      "metadata": {
        "id": "ICHm4nH9zJRK",
        "outputId": "7c400eb8-1601-4fa0-d284-fb24126a1213",
        "execution": {
          "iopub.status.busy": "2022-03-13T09:21:21.327425Z",
          "iopub.execute_input": "2022-03-13T09:21:21.327738Z",
          "iopub.status.idle": "2022-03-13T09:21:21.453524Z",
          "shell.execute_reply.started": "2022-03-13T09:21:21.327702Z",
          "shell.execute_reply": "2022-03-13T09:21:21.452386Z"
        },
        "trusted": true,
        "colab": {
          "base_uri": "https://localhost:8080/"
        }
      },
      "execution_count": 10,
      "outputs": [
        {
          "output_type": "stream",
          "name": "stdout",
          "text": [
            "<class 'pandas.core.frame.DataFrame'>\n",
            "RangeIndex: 458197 entries, 0 to 458196\n",
            "Data columns (total 3 columns):\n",
            " #   Column   Non-Null Count   Dtype \n",
            "---  ------   --------------   ----- \n",
            " 0   id       458197 non-null  int64 \n",
            " 1   tweets   458197 non-null  object\n",
            " 2   dialect  458197 non-null  object\n",
            "dtypes: int64(1), object(2)\n",
            "memory usage: 10.5+ MB\n"
          ]
        }
      ]
    },
    {
      "cell_type": "code",
      "source": [
        "len(df)"
      ],
      "metadata": {
        "id": "YRrjO1VxzP9f",
        "outputId": "6155d9e7-d4d7-42d3-a88a-f49a4f511451",
        "execution": {
          "iopub.status.busy": "2022-03-13T08:55:46.640883Z",
          "iopub.execute_input": "2022-03-13T08:55:46.641608Z",
          "iopub.status.idle": "2022-03-13T08:55:46.648360Z",
          "shell.execute_reply.started": "2022-03-13T08:55:46.641574Z",
          "shell.execute_reply": "2022-03-13T08:55:46.647696Z"
        },
        "trusted": true,
        "colab": {
          "base_uri": "https://localhost:8080/"
        }
      },
      "execution_count": 11,
      "outputs": [
        {
          "output_type": "execute_result",
          "data": {
            "text/plain": [
              "458197"
            ]
          },
          "metadata": {},
          "execution_count": 11
        }
      ]
    },
    {
      "cell_type": "code",
      "source": [
        "df.sample(10)"
      ],
      "metadata": {
        "id": "WjQpdZ1VnPKk",
        "outputId": "4d6a06ed-3f2a-431b-f086-eb0f815b53e2",
        "execution": {
          "iopub.status.busy": "2022-03-13T08:55:46.649684Z",
          "iopub.execute_input": "2022-03-13T08:55:46.649927Z",
          "iopub.status.idle": "2022-03-13T08:55:46.679313Z",
          "shell.execute_reply.started": "2022-03-13T08:55:46.649887Z",
          "shell.execute_reply": "2022-03-13T08:55:46.678730Z"
        },
        "trusted": true,
        "colab": {
          "base_uri": "https://localhost:8080/",
          "height": 363
        }
      },
      "execution_count": 12,
      "outputs": [
        {
          "output_type": "execute_result",
          "data": {
            "text/plain": [
              "                         id  \\\n",
              "259602   878599571559133184   \n",
              "242263   979412936358686848   \n",
              "181852  1115226468714471424   \n",
              "198550  1119728614780674048   \n",
              "192702   943157515726000000   \n",
              "241235  1091732643069210624   \n",
              "287086   962843038346371200   \n",
              "278088   991377433285812224   \n",
              "404810  1000374036474531840   \n",
              "174728   573224488545828864   \n",
              "\n",
              "                                                   tweets dialect  \n",
              "259602                        انا بحب موووونو اوووووووووي      EG  \n",
              "242263  @zd6ii عادي جدا لأن رايد طلع يومين يعني ما مسك...      DZ  \n",
              "181852  @MuNouha @DoniaElghennami هدا هو الحال الله يص...      MA  \n",
              "198550               @lIlIIlIIIIlI شكلك من جيلي ياملكي 🤣🤣      SA  \n",
              "192702  عزيزتي الفتاة👱‍♀👩انتي تحسبي نفسك لو كتبتي متزو...      SA  \n",
              "241235  الله يبارك فيك ياطويل العمر😂 https://t.co/S6ex...      DZ  \n",
              "287086  هو يا إما نوم متقطع يا إما كوابيس ؟\\nطب مفيش i...      EG  \n",
              "278088  @BAKRABOARIDA @theagent666 🤣🤣عميل إتهام خطير خ...      EG  \n",
              "404810  @alimoha73879480 @OMDz6ktXClBIUos وجيشك اليحمي...      SD  \n",
              "174728  عن لما تكون نايم وتحلم حلم حلو وحد يجي يصحيك! ...      JO  "
            ],
            "text/html": [
              "\n",
              "  <div id=\"df-885f33d7-873c-4580-8b99-5108c195969b\">\n",
              "    <div class=\"colab-df-container\">\n",
              "      <div>\n",
              "<style scoped>\n",
              "    .dataframe tbody tr th:only-of-type {\n",
              "        vertical-align: middle;\n",
              "    }\n",
              "\n",
              "    .dataframe tbody tr th {\n",
              "        vertical-align: top;\n",
              "    }\n",
              "\n",
              "    .dataframe thead th {\n",
              "        text-align: right;\n",
              "    }\n",
              "</style>\n",
              "<table border=\"1\" class=\"dataframe\">\n",
              "  <thead>\n",
              "    <tr style=\"text-align: right;\">\n",
              "      <th></th>\n",
              "      <th>id</th>\n",
              "      <th>tweets</th>\n",
              "      <th>dialect</th>\n",
              "    </tr>\n",
              "  </thead>\n",
              "  <tbody>\n",
              "    <tr>\n",
              "      <th>259602</th>\n",
              "      <td>878599571559133184</td>\n",
              "      <td>انا بحب موووونو اوووووووووي</td>\n",
              "      <td>EG</td>\n",
              "    </tr>\n",
              "    <tr>\n",
              "      <th>242263</th>\n",
              "      <td>979412936358686848</td>\n",
              "      <td>@zd6ii عادي جدا لأن رايد طلع يومين يعني ما مسك...</td>\n",
              "      <td>DZ</td>\n",
              "    </tr>\n",
              "    <tr>\n",
              "      <th>181852</th>\n",
              "      <td>1115226468714471424</td>\n",
              "      <td>@MuNouha @DoniaElghennami هدا هو الحال الله يص...</td>\n",
              "      <td>MA</td>\n",
              "    </tr>\n",
              "    <tr>\n",
              "      <th>198550</th>\n",
              "      <td>1119728614780674048</td>\n",
              "      <td>@lIlIIlIIIIlI شكلك من جيلي ياملكي 🤣🤣</td>\n",
              "      <td>SA</td>\n",
              "    </tr>\n",
              "    <tr>\n",
              "      <th>192702</th>\n",
              "      <td>943157515726000000</td>\n",
              "      <td>عزيزتي الفتاة👱‍♀👩انتي تحسبي نفسك لو كتبتي متزو...</td>\n",
              "      <td>SA</td>\n",
              "    </tr>\n",
              "    <tr>\n",
              "      <th>241235</th>\n",
              "      <td>1091732643069210624</td>\n",
              "      <td>الله يبارك فيك ياطويل العمر😂 https://t.co/S6ex...</td>\n",
              "      <td>DZ</td>\n",
              "    </tr>\n",
              "    <tr>\n",
              "      <th>287086</th>\n",
              "      <td>962843038346371200</td>\n",
              "      <td>هو يا إما نوم متقطع يا إما كوابيس ؟\\nطب مفيش i...</td>\n",
              "      <td>EG</td>\n",
              "    </tr>\n",
              "    <tr>\n",
              "      <th>278088</th>\n",
              "      <td>991377433285812224</td>\n",
              "      <td>@BAKRABOARIDA @theagent666 🤣🤣عميل إتهام خطير خ...</td>\n",
              "      <td>EG</td>\n",
              "    </tr>\n",
              "    <tr>\n",
              "      <th>404810</th>\n",
              "      <td>1000374036474531840</td>\n",
              "      <td>@alimoha73879480 @OMDz6ktXClBIUos وجيشك اليحمي...</td>\n",
              "      <td>SD</td>\n",
              "    </tr>\n",
              "    <tr>\n",
              "      <th>174728</th>\n",
              "      <td>573224488545828864</td>\n",
              "      <td>عن لما تكون نايم وتحلم حلم حلو وحد يجي يصحيك! ...</td>\n",
              "      <td>JO</td>\n",
              "    </tr>\n",
              "  </tbody>\n",
              "</table>\n",
              "</div>\n",
              "      <button class=\"colab-df-convert\" onclick=\"convertToInteractive('df-885f33d7-873c-4580-8b99-5108c195969b')\"\n",
              "              title=\"Convert this dataframe to an interactive table.\"\n",
              "              style=\"display:none;\">\n",
              "        \n",
              "  <svg xmlns=\"http://www.w3.org/2000/svg\" height=\"24px\"viewBox=\"0 0 24 24\"\n",
              "       width=\"24px\">\n",
              "    <path d=\"M0 0h24v24H0V0z\" fill=\"none\"/>\n",
              "    <path d=\"M18.56 5.44l.94 2.06.94-2.06 2.06-.94-2.06-.94-.94-2.06-.94 2.06-2.06.94zm-11 1L8.5 8.5l.94-2.06 2.06-.94-2.06-.94L8.5 2.5l-.94 2.06-2.06.94zm10 10l.94 2.06.94-2.06 2.06-.94-2.06-.94-.94-2.06-.94 2.06-2.06.94z\"/><path d=\"M17.41 7.96l-1.37-1.37c-.4-.4-.92-.59-1.43-.59-.52 0-1.04.2-1.43.59L10.3 9.45l-7.72 7.72c-.78.78-.78 2.05 0 2.83L4 21.41c.39.39.9.59 1.41.59.51 0 1.02-.2 1.41-.59l7.78-7.78 2.81-2.81c.8-.78.8-2.07 0-2.86zM5.41 20L4 18.59l7.72-7.72 1.47 1.35L5.41 20z\"/>\n",
              "  </svg>\n",
              "      </button>\n",
              "      \n",
              "  <style>\n",
              "    .colab-df-container {\n",
              "      display:flex;\n",
              "      flex-wrap:wrap;\n",
              "      gap: 12px;\n",
              "    }\n",
              "\n",
              "    .colab-df-convert {\n",
              "      background-color: #E8F0FE;\n",
              "      border: none;\n",
              "      border-radius: 50%;\n",
              "      cursor: pointer;\n",
              "      display: none;\n",
              "      fill: #1967D2;\n",
              "      height: 32px;\n",
              "      padding: 0 0 0 0;\n",
              "      width: 32px;\n",
              "    }\n",
              "\n",
              "    .colab-df-convert:hover {\n",
              "      background-color: #E2EBFA;\n",
              "      box-shadow: 0px 1px 2px rgba(60, 64, 67, 0.3), 0px 1px 3px 1px rgba(60, 64, 67, 0.15);\n",
              "      fill: #174EA6;\n",
              "    }\n",
              "\n",
              "    [theme=dark] .colab-df-convert {\n",
              "      background-color: #3B4455;\n",
              "      fill: #D2E3FC;\n",
              "    }\n",
              "\n",
              "    [theme=dark] .colab-df-convert:hover {\n",
              "      background-color: #434B5C;\n",
              "      box-shadow: 0px 1px 3px 1px rgba(0, 0, 0, 0.15);\n",
              "      filter: drop-shadow(0px 1px 2px rgba(0, 0, 0, 0.3));\n",
              "      fill: #FFFFFF;\n",
              "    }\n",
              "  </style>\n",
              "\n",
              "      <script>\n",
              "        const buttonEl =\n",
              "          document.querySelector('#df-885f33d7-873c-4580-8b99-5108c195969b button.colab-df-convert');\n",
              "        buttonEl.style.display =\n",
              "          google.colab.kernel.accessAllowed ? 'block' : 'none';\n",
              "\n",
              "        async function convertToInteractive(key) {\n",
              "          const element = document.querySelector('#df-885f33d7-873c-4580-8b99-5108c195969b');\n",
              "          const dataTable =\n",
              "            await google.colab.kernel.invokeFunction('convertToInteractive',\n",
              "                                                     [key], {});\n",
              "          if (!dataTable) return;\n",
              "\n",
              "          const docLinkHtml = 'Like what you see? Visit the ' +\n",
              "            '<a target=\"_blank\" href=https://colab.research.google.com/notebooks/data_table.ipynb>data table notebook</a>'\n",
              "            + ' to learn more about interactive tables.';\n",
              "          element.innerHTML = '';\n",
              "          dataTable['output_type'] = 'display_data';\n",
              "          await google.colab.output.renderOutput(dataTable, element);\n",
              "          const docLink = document.createElement('div');\n",
              "          docLink.innerHTML = docLinkHtml;\n",
              "          element.appendChild(docLink);\n",
              "        }\n",
              "      </script>\n",
              "    </div>\n",
              "  </div>\n",
              "  "
            ]
          },
          "metadata": {},
          "execution_count": 12
        }
      ]
    },
    {
      "cell_type": "code",
      "source": [
        "df.shape"
      ],
      "metadata": {
        "id": "DCma0dvZr_dR",
        "outputId": "633d1d07-aedb-410f-9631-cc9e6c96e63f",
        "execution": {
          "iopub.status.busy": "2022-03-13T08:55:46.680359Z",
          "iopub.execute_input": "2022-03-13T08:55:46.680789Z",
          "iopub.status.idle": "2022-03-13T08:55:46.685424Z",
          "shell.execute_reply.started": "2022-03-13T08:55:46.680759Z",
          "shell.execute_reply": "2022-03-13T08:55:46.684607Z"
        },
        "trusted": true,
        "colab": {
          "base_uri": "https://localhost:8080/"
        }
      },
      "execution_count": 13,
      "outputs": [
        {
          "output_type": "execute_result",
          "data": {
            "text/plain": [
              "(458197, 3)"
            ]
          },
          "metadata": {},
          "execution_count": 13
        }
      ]
    },
    {
      "cell_type": "code",
      "source": [
        "df[\"dialect\"].isna().sum()"
      ],
      "metadata": {
        "id": "ZyWpdRwDoL6i",
        "outputId": "2db9fa20-74f8-4b3b-ddff-c78773dda365",
        "execution": {
          "iopub.status.busy": "2022-03-13T08:55:46.686508Z",
          "iopub.execute_input": "2022-03-13T08:55:46.687203Z",
          "iopub.status.idle": "2022-03-13T08:55:46.749719Z",
          "shell.execute_reply.started": "2022-03-13T08:55:46.687168Z",
          "shell.execute_reply": "2022-03-13T08:55:46.748813Z"
        },
        "trusted": true,
        "colab": {
          "base_uri": "https://localhost:8080/"
        }
      },
      "execution_count": 14,
      "outputs": [
        {
          "output_type": "execute_result",
          "data": {
            "text/plain": [
              "0"
            ]
          },
          "metadata": {},
          "execution_count": 14
        }
      ]
    },
    {
      "cell_type": "code",
      "source": [
        "df[\"dialect\"].value_counts()\n",
        "# it is imbalanced data"
      ],
      "metadata": {
        "id": "S6xC6aXQorH2",
        "outputId": "34db0895-82d4-438b-95ee-f5f2b8148fff",
        "execution": {
          "iopub.status.busy": "2022-03-13T08:55:46.751048Z",
          "iopub.execute_input": "2022-03-13T08:55:46.751751Z",
          "iopub.status.idle": "2022-03-13T08:55:46.819366Z",
          "shell.execute_reply.started": "2022-03-13T08:55:46.751714Z",
          "shell.execute_reply": "2022-03-13T08:55:46.818427Z"
        },
        "trusted": true,
        "colab": {
          "base_uri": "https://localhost:8080/"
        }
      },
      "execution_count": 15,
      "outputs": [
        {
          "output_type": "execute_result",
          "data": {
            "text/plain": [
              "EG    57636\n",
              "PL    43742\n",
              "KW    42109\n",
              "LY    36499\n",
              "QA    31069\n",
              "JO    27921\n",
              "LB    27617\n",
              "SA    26832\n",
              "AE    26296\n",
              "BH    26292\n",
              "OM    19116\n",
              "SY    16242\n",
              "DZ    16183\n",
              "IQ    15497\n",
              "SD    14434\n",
              "MA    11539\n",
              "YE     9927\n",
              "TN     9246\n",
              "Name: dialect, dtype: int64"
            ]
          },
          "metadata": {},
          "execution_count": 15
        }
      ]
    },
    {
      "cell_type": "code",
      "source": [
        "import matplotlib.pyplot as plt\n",
        "import seaborn as sns\n",
        "# plt.hist(df[\"dialect\"])"
      ],
      "metadata": {
        "id": "LNr_wlq6DmVg",
        "execution": {
          "iopub.status.busy": "2022-03-13T09:21:34.064594Z",
          "iopub.execute_input": "2022-03-13T09:21:34.065084Z",
          "iopub.status.idle": "2022-03-13T09:21:34.069279Z",
          "shell.execute_reply.started": "2022-03-13T09:21:34.065045Z",
          "shell.execute_reply": "2022-03-13T09:21:34.068670Z"
        },
        "trusted": true
      },
      "execution_count": 16,
      "outputs": []
    },
    {
      "cell_type": "code",
      "source": [
        "sns.countplot(df[\"dialect\"])\n",
        "#this data slightly unbalanced "
      ],
      "metadata": {
        "id": "JmSu4wW3D9-s",
        "outputId": "427527e1-6ae8-4000-9751-e61af397095f",
        "execution": {
          "iopub.status.busy": "2022-03-13T09:21:34.764318Z",
          "iopub.execute_input": "2022-03-13T09:21:34.764928Z",
          "iopub.status.idle": "2022-03-13T09:21:35.566282Z",
          "shell.execute_reply.started": "2022-03-13T09:21:34.764868Z",
          "shell.execute_reply": "2022-03-13T09:21:35.565309Z"
        },
        "trusted": true,
        "colab": {
          "base_uri": "https://localhost:8080/",
          "height": 355
        }
      },
      "execution_count": 17,
      "outputs": [
        {
          "output_type": "stream",
          "name": "stderr",
          "text": [
            "/usr/local/lib/python3.7/dist-packages/seaborn/_decorators.py:43: FutureWarning: Pass the following variable as a keyword arg: x. From version 0.12, the only valid positional argument will be `data`, and passing other arguments without an explicit keyword will result in an error or misinterpretation.\n",
            "  FutureWarning\n"
          ]
        },
        {
          "output_type": "execute_result",
          "data": {
            "text/plain": [
              "<matplotlib.axes._subplots.AxesSubplot at 0x7eff433fe350>"
            ]
          },
          "metadata": {},
          "execution_count": 17
        },
        {
          "output_type": "display_data",
          "data": {
            "text/plain": [
              "<Figure size 432x288 with 1 Axes>"
            ],
            "image/png": "[encoded data removed]"
          },
          "metadata": {
            "needs_background": "light"
          }
        }
      ]
    },
    {
      "cell_type": "code",
      "source": [
        "import nltk\n",
        "nltk.download('wordnet')"
      ],
      "metadata": {
        "id": "X54MI7F4oORn",
        "outputId": "6fc09b8b-56f5-4df5-df6d-ed5106d375b5",
        "execution": {
          "iopub.status.busy": "2022-03-13T09:21:44.153874Z",
          "iopub.execute_input": "2022-03-13T09:21:44.154184Z",
          "iopub.status.idle": "2022-03-13T09:21:44.161744Z",
          "shell.execute_reply.started": "2022-03-13T09:21:44.154145Z",
          "shell.execute_reply": "2022-03-13T09:21:44.160998Z"
        },
        "trusted": true,
        "colab": {
          "base_uri": "https://localhost:8080/"
        }
      },
      "execution_count": 8,
      "outputs": [
        {
          "output_type": "stream",
          "name": "stdout",
          "text": [
            "[nltk_data] Downloading package wordnet to /root/nltk_data...\n",
            "[nltk_data]   Unzipping corpora/wordnet.zip.\n"
          ]
        },
        {
          "output_type": "execute_result",
          "data": {
            "text/plain": [
              "True"
            ]
          },
          "metadata": {},
          "execution_count": 8
        }
      ]
    },
    {
      "cell_type": "code",
      "source": [
        "arabic_punctuations = '''`÷×؛<>_()*&^%][ـ،/:\"؟.,'{}~¦+|!”…“–ـ'''\n",
        "english_punctuations = string.punctuation\n",
        "punctuations_list = arabic_punctuations + english_punctuations\n",
        "\n",
        "def remove_punctuations(text):\n",
        "    translator = str.maketrans('', '', punctuations_list)\n",
        "    return text.translate(translator)"
      ],
      "metadata": {
        "id": "lRUQhjd1JdLL",
        "execution": {
          "iopub.status.busy": "2022-03-13T09:21:49.699371Z",
          "iopub.execute_input": "2022-03-13T09:21:49.699676Z",
          "iopub.status.idle": "2022-03-13T09:21:49.706185Z",
          "shell.execute_reply.started": "2022-03-13T09:21:49.699644Z",
          "shell.execute_reply": "2022-03-13T09:21:49.705464Z"
        },
        "trusted": true
      },
      "execution_count": 9,
      "outputs": []
    },
    {
      "cell_type": "markdown",
      "source": [
        "# # normalize_arabic"
      ],
      "metadata": {
        "id": "jnTdlvK_J2w7"
      }
    },
    {
      "cell_type": "code",
      "source": [
        "def normalize_arabic(text):\n",
        "    text = re.sub(\"[إأآا]\", \"ا\", text)\n",
        "    text = re.sub(\"ى\", \"ي\", text)\n",
        "    text = re.sub(\"ه\", \"ه\", text)\n",
        "    text = re.sub(\"گ\", \"ك\", text)\n",
        "    return text"
      ],
      "metadata": {
        "id": "RPz4LLoYJnJA",
        "execution": {
          "iopub.status.busy": "2022-03-13T09:21:54.239382Z",
          "iopub.execute_input": "2022-03-13T09:21:54.239913Z",
          "iopub.status.idle": "2022-03-13T09:21:54.246330Z",
          "shell.execute_reply.started": "2022-03-13T09:21:54.239872Z",
          "shell.execute_reply": "2022-03-13T09:21:54.245602Z"
        },
        "trusted": true
      },
      "execution_count": 10,
      "outputs": []
    },
    {
      "cell_type": "markdown",
      "source": [
        "# remove_repeating_char"
      ],
      "metadata": {
        "id": "NQo2c6FfKBf9"
      }
    },
    {
      "cell_type": "code",
      "source": [
        "def remove_repeating_char(text):\n",
        "    return re.sub(r'(.)\\1+', r'\\1', text)"
      ],
      "metadata": {
        "id": "KuDswtw6yuAY",
        "execution": {
          "iopub.status.busy": "2022-03-13T08:55:54.869592Z",
          "iopub.execute_input": "2022-03-13T08:55:54.869894Z",
          "iopub.status.idle": "2022-03-13T08:55:54.874344Z",
          "shell.execute_reply.started": "2022-03-13T08:55:54.869854Z",
          "shell.execute_reply": "2022-03-13T08:55:54.873718Z"
        },
        "trusted": true
      },
      "execution_count": 11,
      "outputs": []
    },
    {
      "cell_type": "markdown",
      "source": [
        "# remove non arabic words"
      ],
      "metadata": {
        "id": "Lao34RgTxov6"
      }
    },
    {
      "cell_type": "code",
      "source": [
        "def nospecial(text):\n",
        "\timport re\n",
        "\ttext = re.sub(\"[a-zA-Z0-9]+\", \"\",text)\n",
        "\treturn text"
      ],
      "metadata": {
        "id": "qvuN0U0ox0iS",
        "execution": {
          "iopub.status.busy": "2022-03-13T09:22:03.656346Z",
          "iopub.execute_input": "2022-03-13T09:22:03.656890Z",
          "iopub.status.idle": "2022-03-13T09:22:03.661416Z",
          "shell.execute_reply.started": "2022-03-13T09:22:03.656852Z",
          "shell.execute_reply": "2022-03-13T09:22:03.660521Z"
        },
        "trusted": true
      },
      "execution_count": 12,
      "outputs": []
    },
    {
      "cell_type": "markdown",
      "source": [
        "# processPost for applying all functions"
      ],
      "metadata": {
        "id": "j76V83K0KQHg"
      }
    },
    {
      "cell_type": "code",
      "source": [
        "def preprocess_text(tweet): \n",
        "\n",
        "    #remove emoji\n",
        "    emoji_pattern = re.compile(\"[\"\n",
        "        u\"\\U0001F600-\\U0001F64F\"  # emoticons\n",
        "        u\"\\U0001F300-\\U0001F5FF\"  # symbols & pictographs\n",
        "        u\"\\U0001F680-\\U0001F6FF\"  # transport & map symbols\n",
        "        u\"\\U0001F1E0-\\U0001F1FF\"  # flags (iOS)\n",
        "                           \"]+\", flags=re.UNICODE)\n",
        "    tweet = emoji_pattern.sub(r'', tweet)\n",
        "    \n",
        "  \n",
        "    #remove tashkeel\n",
        "    p_tashkeel = re.compile(r'[\\u0617-\\u061A\\u064B-\\u0652]')\n",
        "    tweet = re.sub(p_tashkeel,\"\", tweet)\n",
        "\n",
        "    #Replace @username with empty string\n",
        "    tweet = re.sub('@[^\\s]+', ' ', tweet)\n",
        "    \n",
        "    #Convert www.* or https?://* to \" \"\n",
        "    tweet = re.sub('((www\\.[^\\s]+)|(https?://[^\\s]+))',' ',tweet)\n",
        "    \n",
        "    #Replace #word with word\n",
        "    tweet = re.sub(r'#([^\\s]+)', r'\\1', tweet)\n",
        "\n",
        "    # remove punctuations\n",
        "    tweet= remove_punctuations(tweet)\n",
        "    \n",
        "    # normalize the tweet\n",
        "     #tweet= normalize_arabic(tweet)\n",
        "    \n",
        "    # remove repeated letters\n",
        "    tweet=remove_repeating_char(tweet)\n",
        "\n",
        "    #remove non arabic words\n",
        "    tweet = nospecial(tweet)\n",
        "\n",
        "    #trim    \n",
        "    tweet = tweet.strip()\n",
        "\n",
        "#       #text stemming\n",
        "#     from nltk.stem.isri import ISRIStemmer #not good idea in this task \n",
        "#     st = ISRIStemmer()\n",
        "#     ISRIStemmer().suf32(tweet)\n",
        "    \n",
        "    return tweet"
      ],
      "metadata": {
        "id": "D2fVK1hrKS7X",
        "execution": {
          "iopub.status.busy": "2022-03-13T09:22:06.910327Z",
          "iopub.execute_input": "2022-03-13T09:22:06.910856Z",
          "iopub.status.idle": "2022-03-13T09:22:06.918876Z",
          "shell.execute_reply.started": "2022-03-13T09:22:06.910821Z",
          "shell.execute_reply": "2022-03-13T09:22:06.917854Z"
        },
        "trusted": true
      },
      "execution_count": 13,
      "outputs": []
    },
    {
      "cell_type": "code",
      "source": [
        "print(f\"Orignal Text : {df.tweets[13]}\")\n",
        "print()\n",
        "print(f\"Preprocessed Text : {preprocess_text(df.tweets[13])}\")"
      ],
      "metadata": {
        "id": "WMAdqbHzo0Tk",
        "outputId": "28aaffb5-73b9-475e-86e0-1c774c6f0996",
        "execution": {
          "iopub.status.busy": "2022-03-13T09:22:28.756281Z",
          "iopub.execute_input": "2022-03-13T09:22:28.756797Z",
          "iopub.status.idle": "2022-03-13T09:22:28.762759Z",
          "shell.execute_reply.started": "2022-03-13T09:22:28.756753Z",
          "shell.execute_reply": "2022-03-13T09:22:28.762090Z"
        },
        "trusted": true,
        "colab": {
          "base_uri": "https://localhost:8080/"
        }
      },
      "execution_count": 14,
      "outputs": [
        {
          "output_type": "stream",
          "name": "stdout",
          "text": [
            "Orignal Text : @3Obeidi ههههه عدوله گلبه ورم من عدنه .. گلك خل اتونس همه بكل شيء مارضين😂😂 فهاي السفره اسمها .،، اتونس وبكيفي🤪\n",
            "\n",
            "Preprocessed Text : ه عدوله گلبه ورم من عدنه گلك خل اتونس همه بكل شيء مارضين فهاي السفره اسمها اتونس وبكيفي🤪\n"
          ]
        }
      ]
    },
    {
      "cell_type": "code",
      "source": [
        "# from nltk.stem.isri import ISRIStemmer\n",
        "# st = ISRIStemmer()\n",
        "# ISRIStemmer().suf32(\"اعلاميون\")"
      ],
      "metadata": {
        "id": "5yWG9L4NPGMC",
        "execution": {
          "iopub.status.busy": "2022-03-13T08:56:06.421943Z",
          "iopub.execute_input": "2022-03-13T08:56:06.422527Z",
          "iopub.status.idle": "2022-03-13T08:56:06.425389Z",
          "shell.execute_reply.started": "2022-03-13T08:56:06.422491Z",
          "shell.execute_reply": "2022-03-13T08:56:06.424815Z"
        },
        "trusted": true
      },
      "execution_count": 15,
      "outputs": []
    },
    {
      "cell_type": "code",
      "source": [
        "df.tweets = df.tweets.map(preprocess_text)\n",
        "df.head()"
      ],
      "metadata": {
        "id": "1ceqn6Z4zO6G",
        "outputId": "4f8f012d-d2e3-4a7c-bd84-6b43509a5c23",
        "execution": {
          "iopub.status.busy": "2022-03-13T09:22:33.720592Z",
          "iopub.execute_input": "2022-03-13T09:22:33.721227Z",
          "iopub.status.idle": "2022-03-13T09:23:03.441634Z",
          "shell.execute_reply.started": "2022-03-13T09:22:33.721195Z",
          "shell.execute_reply": "2022-03-13T09:23:03.440656Z"
        },
        "trusted": true,
        "colab": {
          "base_uri": "https://localhost:8080/",
          "height": 206
        }
      },
      "execution_count": 16,
      "outputs": [
        {
          "output_type": "execute_result",
          "data": {
            "text/plain": [
              "                    id                                             tweets  \\\n",
              "0  1175358310087892992                            لكن بالنهاية ينتفض يغير   \n",
              "1  1175416117793349632  يعني هذا محسوب على البشر حيونه وحشيه وتطلبون م...   \n",
              "2  1175450108898565888                                مبين من كلامه خليجي   \n",
              "3  1175471073770573824                          يسلملي مرورك وروحك الحلوه   \n",
              "4  1175496913145217024                              وين هل الغيبه اخ محمد   \n",
              "\n",
              "  dialect  \n",
              "0      IQ  \n",
              "1      IQ  \n",
              "2      IQ  \n",
              "3      IQ  \n",
              "4      IQ  "
            ],
            "text/html": [
              "\n",
              "  <div id=\"df-5ee0d740-9321-460f-807a-93cf6dca1fe3\">\n",
              "    <div class=\"colab-df-container\">\n",
              "      <div>\n",
              "<style scoped>\n",
              "    .dataframe tbody tr th:only-of-type {\n",
              "        vertical-align: middle;\n",
              "    }\n",
              "\n",
              "    .dataframe tbody tr th {\n",
              "        vertical-align: top;\n",
              "    }\n",
              "\n",
              "    .dataframe thead th {\n",
              "        text-align: right;\n",
              "    }\n",
              "</style>\n",
              "<table border=\"1\" class=\"dataframe\">\n",
              "  <thead>\n",
              "    <tr style=\"text-align: right;\">\n",
              "      <th></th>\n",
              "      <th>id</th>\n",
              "      <th>tweets</th>\n",
              "      <th>dialect</th>\n",
              "    </tr>\n",
              "  </thead>\n",
              "  <tbody>\n",
              "    <tr>\n",
              "      <th>0</th>\n",
              "      <td>1175358310087892992</td>\n",
              "      <td>لكن بالنهاية ينتفض يغير</td>\n",
              "      <td>IQ</td>\n",
              "    </tr>\n",
              "    <tr>\n",
              "      <th>1</th>\n",
              "      <td>1175416117793349632</td>\n",
              "      <td>يعني هذا محسوب على البشر حيونه وحشيه وتطلبون م...</td>\n",
              "      <td>IQ</td>\n",
              "    </tr>\n",
              "    <tr>\n",
              "      <th>2</th>\n",
              "      <td>1175450108898565888</td>\n",
              "      <td>مبين من كلامه خليجي</td>\n",
              "      <td>IQ</td>\n",
              "    </tr>\n",
              "    <tr>\n",
              "      <th>3</th>\n",
              "      <td>1175471073770573824</td>\n",
              "      <td>يسلملي مرورك وروحك الحلوه</td>\n",
              "      <td>IQ</td>\n",
              "    </tr>\n",
              "    <tr>\n",
              "      <th>4</th>\n",
              "      <td>1175496913145217024</td>\n",
              "      <td>وين هل الغيبه اخ محمد</td>\n",
              "      <td>IQ</td>\n",
              "    </tr>\n",
              "  </tbody>\n",
              "</table>\n",
              "</div>\n",
              "      <button class=\"colab-df-convert\" onclick=\"convertToInteractive('df-5ee0d740-9321-460f-807a-93cf6dca1fe3')\"\n",
              "              title=\"Convert this dataframe to an interactive table.\"\n",
              "              style=\"display:none;\">\n",
              "        \n",
              "  <svg xmlns=\"http://www.w3.org/2000/svg\" height=\"24px\"viewBox=\"0 0 24 24\"\n",
              "       width=\"24px\">\n",
              "    <path d=\"M0 0h24v24H0V0z\" fill=\"none\"/>\n",
              "    <path d=\"M18.56 5.44l.94 2.06.94-2.06 2.06-.94-2.06-.94-.94-2.06-.94 2.06-2.06.94zm-11 1L8.5 8.5l.94-2.06 2.06-.94-2.06-.94L8.5 2.5l-.94 2.06-2.06.94zm10 10l.94 2.06.94-2.06 2.06-.94-2.06-.94-.94-2.06-.94 2.06-2.06.94z\"/><path d=\"M17.41 7.96l-1.37-1.37c-.4-.4-.92-.59-1.43-.59-.52 0-1.04.2-1.43.59L10.3 9.45l-7.72 7.72c-.78.78-.78 2.05 0 2.83L4 21.41c.39.39.9.59 1.41.59.51 0 1.02-.2 1.41-.59l7.78-7.78 2.81-2.81c.8-.78.8-2.07 0-2.86zM5.41 20L4 18.59l7.72-7.72 1.47 1.35L5.41 20z\"/>\n",
              "  </svg>\n",
              "      </button>\n",
              "      \n",
              "  <style>\n",
              "    .colab-df-container {\n",
              "      display:flex;\n",
              "      flex-wrap:wrap;\n",
              "      gap: 12px;\n",
              "    }\n",
              "\n",
              "    .colab-df-convert {\n",
              "      background-color: #E8F0FE;\n",
              "      border: none;\n",
              "      border-radius: 50%;\n",
              "      cursor: pointer;\n",
              "      display: none;\n",
              "      fill: #1967D2;\n",
              "      height: 32px;\n",
              "      padding: 0 0 0 0;\n",
              "      width: 32px;\n",
              "    }\n",
              "\n",
              "    .colab-df-convert:hover {\n",
              "      background-color: #E2EBFA;\n",
              "      box-shadow: 0px 1px 2px rgba(60, 64, 67, 0.3), 0px 1px 3px 1px rgba(60, 64, 67, 0.15);\n",
              "      fill: #174EA6;\n",
              "    }\n",
              "\n",
              "    [theme=dark] .colab-df-convert {\n",
              "      background-color: #3B4455;\n",
              "      fill: #D2E3FC;\n",
              "    }\n",
              "\n",
              "    [theme=dark] .colab-df-convert:hover {\n",
              "      background-color: #434B5C;\n",
              "      box-shadow: 0px 1px 3px 1px rgba(0, 0, 0, 0.15);\n",
              "      filter: drop-shadow(0px 1px 2px rgba(0, 0, 0, 0.3));\n",
              "      fill: #FFFFFF;\n",
              "    }\n",
              "  </style>\n",
              "\n",
              "      <script>\n",
              "        const buttonEl =\n",
              "          document.querySelector('#df-5ee0d740-9321-460f-807a-93cf6dca1fe3 button.colab-df-convert');\n",
              "        buttonEl.style.display =\n",
              "          google.colab.kernel.accessAllowed ? 'block' : 'none';\n",
              "\n",
              "        async function convertToInteractive(key) {\n",
              "          const element = document.querySelector('#df-5ee0d740-9321-460f-807a-93cf6dca1fe3');\n",
              "          const dataTable =\n",
              "            await google.colab.kernel.invokeFunction('convertToInteractive',\n",
              "                                                     [key], {});\n",
              "          if (!dataTable) return;\n",
              "\n",
              "          const docLinkHtml = 'Like what you see? Visit the ' +\n",
              "            '<a target=\"_blank\" href=https://colab.research.google.com/notebooks/data_table.ipynb>data table notebook</a>'\n",
              "            + ' to learn more about interactive tables.';\n",
              "          element.innerHTML = '';\n",
              "          dataTable['output_type'] = 'display_data';\n",
              "          await google.colab.output.renderOutput(dataTable, element);\n",
              "          const docLink = document.createElement('div');\n",
              "          docLink.innerHTML = docLinkHtml;\n",
              "          element.appendChild(docLink);\n",
              "        }\n",
              "      </script>\n",
              "    </div>\n",
              "  </div>\n",
              "  "
            ]
          },
          "metadata": {},
          "execution_count": 16
        }
      ]
    },
    {
      "cell_type": "markdown",
      "source": [
        "# Removing stop words (i found it is not good in this task to remove stop words)"
      ],
      "metadata": {
        "id": "Zgl0W92BNFCN"
      }
    },
    {
      "cell_type": "code",
      "source": [
        "# from nltk.corpus import stopwords\n",
        "# import nltk"
      ],
      "metadata": {
        "id": "S_KLymBoNuWP",
        "execution": {
          "iopub.status.busy": "2022-03-13T09:11:35.571450Z",
          "iopub.execute_input": "2022-03-13T09:11:35.571761Z",
          "iopub.status.idle": "2022-03-13T09:11:35.575834Z",
          "shell.execute_reply.started": "2022-03-13T09:11:35.571731Z",
          "shell.execute_reply": "2022-03-13T09:11:35.574996Z"
        },
        "trusted": true
      },
      "execution_count": 17,
      "outputs": []
    },
    {
      "cell_type": "code",
      "source": [
        "# nltk.download('stopwords')\n",
        "# stopwords_list = stopwords.words('arabic')"
      ],
      "metadata": {
        "id": "2wfvmLlHgRmW",
        "execution": {
          "iopub.status.busy": "2022-03-13T09:11:50.725903Z",
          "iopub.execute_input": "2022-03-13T09:11:50.726364Z",
          "iopub.status.idle": "2022-03-13T09:11:50.759108Z",
          "shell.execute_reply.started": "2022-03-13T09:11:50.726318Z",
          "shell.execute_reply": "2022-03-13T09:11:50.758107Z"
        },
        "trusted": true
      },
      "execution_count": null,
      "outputs": []
    },
    {
      "cell_type": "code",
      "source": [
        "# stopwords_list"
      ],
      "metadata": {
        "id": "x3eWWenLNxw8",
        "execution": {
          "iopub.status.busy": "2022-03-13T08:56:37.847335Z",
          "iopub.execute_input": "2022-03-13T08:56:37.848207Z",
          "iopub.status.idle": "2022-03-13T08:56:37.858451Z",
          "shell.execute_reply.started": "2022-03-13T08:56:37.848153Z",
          "shell.execute_reply": "2022-03-13T08:56:37.857715Z"
        },
        "trusted": true
      },
      "execution_count": null,
      "outputs": []
    },
    {
      "cell_type": "code",
      "source": [
        "# df[\"tweets\"]=df[\"tweets\"].apply(lambda x: [item for item in x if item not in stopwords_list])"
      ],
      "metadata": {
        "id": "0iVWr8mapuK0",
        "execution": {
          "iopub.status.busy": "2022-03-13T09:12:01.127048Z",
          "iopub.execute_input": "2022-03-13T09:12:01.127343Z",
          "iopub.status.idle": "2022-03-13T09:12:58.577332Z",
          "shell.execute_reply.started": "2022-03-13T09:12:01.127313Z",
          "shell.execute_reply": "2022-03-13T09:12:58.576619Z"
        },
        "trusted": true
      },
      "execution_count": null,
      "outputs": []
    },
    {
      "cell_type": "code",
      "source": [
        "from collections import Counter\n",
        "import random\n",
        "from termcolor import colored\n",
        "from sklearn.datasets import fetch_20newsgroups\n",
        "import numpy as np\n",
        "from sklearn.metrics.pairwise import cosine_similarity, cosine_distances\n",
        "from sklearn.model_selection import train_test_split\n",
        "\n",
        "from sklearn.preprocessing import LabelEncoder\n",
        "# creating instance of labelencoder\n",
        "labelencoder = LabelEncoder()\n",
        "# Assigning numerical values and storing in another column\n",
        "df[\"dialect\"] = labelencoder.fit_transform(df[\"dialect\"])\n",
        "\n",
        "\n",
        "x = df.tweets\n",
        "y = df.dialect\n",
        "print(f'DATA : {x[0]}')\n",
        "print(f'LABEL: {y[0]}')"
      ],
      "metadata": {
        "id": "YW-XVev6QK6V",
        "outputId": "67054673-5dff-4e4d-dedd-cd70587f05cf",
        "execution": {
          "iopub.status.busy": "2022-03-13T09:24:43.461502Z",
          "iopub.execute_input": "2022-03-13T09:24:43.461851Z",
          "iopub.status.idle": "2022-03-13T09:24:43.610993Z",
          "shell.execute_reply.started": "2022-03-13T09:24:43.461816Z",
          "shell.execute_reply": "2022-03-13T09:24:43.610279Z"
        },
        "trusted": true,
        "colab": {
          "base_uri": "https://localhost:8080/"
        }
      },
      "execution_count": 18,
      "outputs": [
        {
          "output_type": "stream",
          "name": "stdout",
          "text": [
            "DATA : لكن بالنهاية ينتفض يغير\n",
            "LABEL: 4\n"
          ]
        }
      ]
    },
    {
      "cell_type": "code",
      "source": [
        "x_train, x_test, y_train, y_test = train_test_split(x, y, test_size=.02, stratify=y, random_state=42 , shuffle = True)"
      ],
      "metadata": {
        "id": "1EAxfEH1P-xI",
        "execution": {
          "iopub.status.busy": "2022-03-13T09:24:49.903470Z",
          "iopub.execute_input": "2022-03-13T09:24:49.906380Z",
          "iopub.status.idle": "2022-03-13T09:24:50.160467Z",
          "shell.execute_reply.started": "2022-03-13T09:24:49.906332Z",
          "shell.execute_reply": "2022-03-13T09:24:50.159645Z"
        },
        "trusted": true
      },
      "execution_count": 19,
      "outputs": []
    },
    {
      "cell_type": "code",
      "source": [
        "x_train.head()"
      ],
      "metadata": {
        "id": "NQ7g1lglQE4b",
        "outputId": "7729eb31-0e09-4cff-d054-ff7b821933b6",
        "execution": {
          "iopub.status.busy": "2022-03-13T09:24:54.312748Z",
          "iopub.execute_input": "2022-03-13T09:24:54.313043Z",
          "iopub.status.idle": "2022-03-13T09:24:54.325220Z",
          "shell.execute_reply.started": "2022-03-13T09:24:54.313008Z",
          "shell.execute_reply": "2022-03-13T09:24:54.323619Z"
        },
        "trusted": true,
        "colab": {
          "base_uri": "https://localhost:8080/"
        }
      },
      "execution_count": 20,
      "outputs": [
        {
          "output_type": "execute_result",
          "data": {
            "text/plain": [
              "3489                           يا اخي الحماس الي عنده مشكله\n",
              "433345    هالحرب الباردة بين دول الشرق الاوسط ما بتنتهي ...\n",
              "79423     محد سواها معركة الا بلادك وحكومتك ومحد حشد الن...\n",
              "273458                     كل سنه وانت طيب وبخير يا عم صلاح\n",
              "237111    اكلهمستحيلتاكلها\\nالفت والبوزولوف كن نبقى لجوع...\n",
              "Name: tweets, dtype: object"
            ]
          },
          "metadata": {},
          "execution_count": 20
        }
      ]
    },
    {
      "cell_type": "markdown",
      "source": [
        "## 1-count vectorizer with logestic regression"
      ],
      "metadata": {
        "id": "B3XM_d8c7r13"
      }
    },
    {
      "cell_type": "code",
      "source": [
        "vectorizer = CountVectorizer() # till now before we experiment spacy is the best represnration \n",
        "vectorizer.fit(x_train)\n",
        "x_train_v = vectorizer.transform(x_train)\n",
        "x_test_v = vectorizer.transform(x_test)"
      ],
      "metadata": {
        "id": "MdVsBZToTbeT",
        "execution": {
          "iopub.status.busy": "2022-03-13T09:28:32.939870Z",
          "iopub.execute_input": "2022-03-13T09:28:32.940176Z",
          "iopub.status.idle": "2022-03-13T09:28:54.918416Z",
          "shell.execute_reply.started": "2022-03-13T09:28:32.940146Z",
          "shell.execute_reply": "2022-03-13T09:28:54.917396Z"
        },
        "trusted": true
      },
      "execution_count": 21,
      "outputs": []
    },
    {
      "cell_type": "code",
      "source": [
        "from sklearn.feature_extraction.text import CountVectorizer, TfidfVectorizer\n",
        "from sklearn.linear_model import LogisticRegression\n",
        "from sklearn.svm import LinearSVC\n",
        "from sklearn.pipeline import make_pipeline\n",
        "\n",
        "\n",
        "clf = LogisticRegression()\n",
        "pipe = make_pipeline(vectorizer, clf)\n",
        "pipe.fit(x_train, y_train);"
      ],
      "metadata": {
        "id": "cvwsguk7b3Jp",
        "outputId": "daefc09b-6d4c-407a-c8ef-ddc6f7f84a38",
        "execution": {
          "iopub.status.busy": "2022-03-13T09:28:54.920152Z",
          "iopub.execute_input": "2022-03-13T09:28:54.920400Z",
          "iopub.status.idle": "2022-03-13T09:33:39.627652Z",
          "shell.execute_reply.started": "2022-03-13T09:28:54.920370Z",
          "shell.execute_reply": "2022-03-13T09:33:39.626683Z"
        },
        "trusted": true,
        "colab": {
          "base_uri": "https://localhost:8080/"
        }
      },
      "execution_count": 22,
      "outputs": [
        {
          "output_type": "stream",
          "name": "stderr",
          "text": [
            "/usr/local/lib/python3.7/dist-packages/sklearn/linear_model/_logistic.py:818: ConvergenceWarning: lbfgs failed to converge (status=1):\n",
            "STOP: TOTAL NO. of ITERATIONS REACHED LIMIT.\n",
            "\n",
            "Increase the number of iterations (max_iter) or scale the data as shown in:\n",
            "    https://scikit-learn.org/stable/modules/preprocessing.html\n",
            "Please also refer to the documentation for alternative solver options:\n",
            "    https://scikit-learn.org/stable/modules/linear_model.html#logistic-regression\n",
            "  extra_warning_msg=_LOGISTIC_SOLVER_CONVERGENCE_MSG,\n"
          ]
        }
      ]
    },
    {
      "cell_type": "code",
      "source": [
        "from sklearn import metrics\n",
        "\n",
        "def print_report(pipe, x_test, y_test):\n",
        "    y_pred = pipe.predict(x_test)\n",
        "    report = metrics.classification_report(y_test, y_pred)\n",
        "    print(report)\n",
        "    print(\"accuracy: {:0.3f}\".format(metrics.accuracy_score(y_test, y_pred)))\n",
        "\n",
        "print_report(pipe, x_test, y_test)"
      ],
      "metadata": {
        "id": "CXSgnalEcAEa",
        "execution": {
          "iopub.status.busy": "2022-03-13T09:33:39.629096Z",
          "iopub.execute_input": "2022-03-13T09:33:39.629411Z",
          "iopub.status.idle": "2022-03-13T09:33:39.909031Z",
          "shell.execute_reply.started": "2022-03-13T09:33:39.629369Z",
          "shell.execute_reply": "2022-03-13T09:33:39.908166Z"
        },
        "trusted": true
      },
      "execution_count": 23,
      "outputs": []
    },
    {
      "cell_type": "code",
      "source": [
        "print_report(pipe, x_test, y_test)"
      ],
      "metadata": {
        "colab": {
          "base_uri": "https://localhost:8080/"
        },
        "id": "tS1HWDOphYDj",
        "outputId": "f6aa1e64-6344-4535-90fa-342d02cfafe4"
      },
      "execution_count": 29,
      "outputs": [
        {
          "output_type": "stream",
          "name": "stdout",
          "text": [
            "              precision    recall  f1-score   support\n",
            "\n",
            "           0       0.43      0.40      0.41       526\n",
            "           1       0.39      0.31      0.34       526\n",
            "           2       0.61      0.41      0.49       324\n",
            "           3       0.67      0.82      0.74      1153\n",
            "           4       0.65      0.54      0.59       310\n",
            "           5       0.45      0.33      0.38       558\n",
            "           6       0.44      0.58      0.50       842\n",
            "           7       0.62      0.68      0.64       552\n",
            "           8       0.56      0.67      0.61       730\n",
            "           9       0.69      0.54      0.61       231\n",
            "          10       0.44      0.31      0.36       382\n",
            "          11       0.46      0.58      0.51       875\n",
            "          12       0.45      0.51      0.47       621\n",
            "          13       0.39      0.43      0.41       537\n",
            "          14       0.75      0.52      0.61       289\n",
            "          15       0.46      0.25      0.32       325\n",
            "          16       0.79      0.34      0.47       185\n",
            "          17       0.48      0.10      0.17       198\n",
            "\n",
            "    accuracy                           0.52      9164\n",
            "   macro avg       0.54      0.46      0.48      9164\n",
            "weighted avg       0.52      0.52      0.51      9164\n",
            "\n",
            "accuracy: 0.520\n"
          ]
        }
      ]
    },
    {
      "cell_type": "markdown",
      "source": [
        "# 2- TF-IDF with logestic regression"
      ],
      "metadata": {
        "id": "mG_A4uqa8Ll8"
      }
    },
    {
      "cell_type": "code",
      "source": [
        "vec = TfidfVectorizer()"
      ],
      "metadata": {
        "id": "cSc_8Dy-_bB4",
        "execution": {
          "iopub.status.busy": "2022-03-13T09:02:15.491932Z",
          "iopub.execute_input": "2022-03-13T09:02:15.492221Z",
          "iopub.status.idle": "2022-03-13T09:02:15.496323Z",
          "shell.execute_reply.started": "2022-03-13T09:02:15.492185Z",
          "shell.execute_reply": "2022-03-13T09:02:15.495634Z"
        },
        "trusted": true
      },
      "execution_count": 24,
      "outputs": []
    },
    {
      "cell_type": "code",
      "source": [
        "clf = LogisticRegression()"
      ],
      "metadata": {
        "id": "si0DvHz9_bIV",
        "execution": {
          "iopub.status.busy": "2022-03-13T09:02:15.497509Z",
          "iopub.execute_input": "2022-03-13T09:02:15.498154Z",
          "iopub.status.idle": "2022-03-13T09:02:15.514375Z",
          "shell.execute_reply.started": "2022-03-13T09:02:15.498113Z",
          "shell.execute_reply": "2022-03-13T09:02:15.513196Z"
        },
        "trusted": true
      },
      "execution_count": 25,
      "outputs": []
    },
    {
      "cell_type": "code",
      "source": [
        "pipe = make_pipeline(vec, clf)\n",
        "pipe.fit(x_train, y_train);"
      ],
      "metadata": {
        "id": "6x71SJNW_bOr",
        "outputId": "791e0649-ae1d-4644-8154-f25660ae82b9",
        "execution": {
          "iopub.status.busy": "2022-03-13T09:02:15.516116Z",
          "iopub.execute_input": "2022-03-13T09:02:15.516659Z",
          "iopub.status.idle": "2022-03-13T09:07:10.929220Z",
          "shell.execute_reply.started": "2022-03-13T09:02:15.516623Z",
          "shell.execute_reply": "2022-03-13T09:07:10.927997Z"
        },
        "trusted": true,
        "colab": {
          "base_uri": "https://localhost:8080/"
        }
      },
      "execution_count": 26,
      "outputs": [
        {
          "output_type": "stream",
          "name": "stderr",
          "text": [
            "/usr/local/lib/python3.7/dist-packages/sklearn/linear_model/_logistic.py:818: ConvergenceWarning: lbfgs failed to converge (status=1):\n",
            "STOP: TOTAL NO. of ITERATIONS REACHED LIMIT.\n",
            "\n",
            "Increase the number of iterations (max_iter) or scale the data as shown in:\n",
            "    https://scikit-learn.org/stable/modules/preprocessing.html\n",
            "Please also refer to the documentation for alternative solver options:\n",
            "    https://scikit-learn.org/stable/modules/linear_model.html#logistic-regression\n",
            "  extra_warning_msg=_LOGISTIC_SOLVER_CONVERGENCE_MSG,\n"
          ]
        }
      ]
    },
    {
      "cell_type": "code",
      "source": [
        "from sklearn import metrics\n",
        "\n",
        "def print_report(pipe, x_test, y_test):\n",
        "    y_pred = pipe.predict(x_test)\n",
        "    report = metrics.classification_report(y_test, y_pred)\n",
        "    print(report)\n",
        "    print(\"accuracy: {:0.3f}\".format(metrics.accuracy_score(y_test, y_pred)))\n",
        "\n",
        "print_report(pipe, x_test, y_test)"
      ],
      "metadata": {
        "id": "j-bTlFnC_bVC",
        "execution": {
          "iopub.status.busy": "2022-03-13T09:07:10.930446Z",
          "iopub.execute_input": "2022-03-13T09:07:10.930678Z",
          "iopub.status.idle": "2022-03-13T09:07:11.229477Z",
          "shell.execute_reply.started": "2022-03-13T09:07:10.930652Z",
          "shell.execute_reply": "2022-03-13T09:07:11.228409Z"
        },
        "trusted": true
      },
      "execution_count": null,
      "outputs": []
    },
    {
      "cell_type": "markdown",
      "source": [
        "# TF-IDF with n - grams with logestic regression"
      ],
      "metadata": {
        "id": "XobdnVkxCAur"
      }
    },
    {
      "cell_type": "code",
      "source": [
        "vec = TfidfVectorizer(analyzer='char_wb', ngram_range=(1, 5), min_df=.01, max_df=.3)"
      ],
      "metadata": {
        "id": "NSylNUmc_bsi",
        "execution": {
          "iopub.status.busy": "2022-03-13T09:33:39.910982Z",
          "iopub.execute_input": "2022-03-13T09:33:39.911673Z",
          "iopub.status.idle": "2022-03-13T09:33:39.999722Z",
          "shell.execute_reply.started": "2022-03-13T09:33:39.911635Z",
          "shell.execute_reply": "2022-03-13T09:33:39.998688Z"
        },
        "trusted": true
      },
      "execution_count": 31,
      "outputs": []
    },
    {
      "cell_type": "code",
      "source": [
        "pipe = make_pipeline(vec, clf)\n",
        "pipe.fit(x_train, y_train);"
      ],
      "metadata": {
        "id": "UK5JSwUEAZxI",
        "outputId": "ba081aa8-892f-4f3d-b96e-1f0718e636de",
        "execution": {
          "iopub.status.busy": "2022-03-13T09:33:40.000816Z",
          "iopub.execute_input": "2022-03-13T09:33:40.001042Z",
          "iopub.status.idle": "2022-03-13T09:38:23.530472Z",
          "shell.execute_reply.started": "2022-03-13T09:33:40.001016Z",
          "shell.execute_reply": "2022-03-13T09:38:23.529600Z"
        },
        "trusted": true,
        "colab": {
          "base_uri": "https://localhost:8080/"
        }
      },
      "execution_count": 32,
      "outputs": [
        {
          "output_type": "stream",
          "name": "stderr",
          "text": [
            "/usr/local/lib/python3.7/dist-packages/sklearn/linear_model/_logistic.py:818: ConvergenceWarning: lbfgs failed to converge (status=1):\n",
            "STOP: TOTAL NO. of ITERATIONS REACHED LIMIT.\n",
            "\n",
            "Increase the number of iterations (max_iter) or scale the data as shown in:\n",
            "    https://scikit-learn.org/stable/modules/preprocessing.html\n",
            "Please also refer to the documentation for alternative solver options:\n",
            "    https://scikit-learn.org/stable/modules/linear_model.html#logistic-regression\n",
            "  extra_warning_msg=_LOGISTIC_SOLVER_CONVERGENCE_MSG,\n"
          ]
        }
      ]
    },
    {
      "cell_type": "code",
      "source": [
        "from sklearn import metrics\n",
        "\n",
        "def print_report(pipe, x_test, y_test):\n",
        "    y_pred = pipe.predict(x_test)\n",
        "    report = metrics.classification_report(y_test, y_pred)\n",
        "    print(report)\n",
        "    print(\"accuracy: {:0.3f}\".format(metrics.accuracy_score(y_test, y_pred)))\n",
        "\n",
        "print_report(pipe, x_test, y_test)"
      ],
      "metadata": {
        "id": "hQhbxfoWAZ58",
        "outputId": "51ddb4a7-68bd-4ea5-b37d-acc68e4ea12f",
        "execution": {
          "iopub.status.busy": "2022-03-13T09:38:23.532032Z",
          "iopub.execute_input": "2022-03-13T09:38:23.532507Z",
          "iopub.status.idle": "2022-03-13T09:38:26.013522Z",
          "shell.execute_reply.started": "2022-03-13T09:38:23.532465Z",
          "shell.execute_reply": "2022-03-13T09:38:26.012590Z"
        },
        "trusted": true,
        "colab": {
          "base_uri": "https://localhost:8080/"
        }
      },
      "execution_count": 33,
      "outputs": [
        {
          "output_type": "stream",
          "name": "stdout",
          "text": [
            "              precision    recall  f1-score   support\n",
            "\n",
            "           0       0.30      0.27      0.28       526\n",
            "           1       0.27      0.21      0.23       526\n",
            "           2       0.48      0.39      0.43       324\n",
            "           3       0.62      0.79      0.69      1153\n",
            "           4       0.46      0.45      0.46       310\n",
            "           5       0.35      0.23      0.28       558\n",
            "           6       0.40      0.51      0.45       842\n",
            "           7       0.54      0.62      0.58       552\n",
            "           8       0.45      0.57      0.50       730\n",
            "           9       0.54      0.48      0.51       231\n",
            "          10       0.32      0.23      0.27       382\n",
            "          11       0.42      0.51      0.46       875\n",
            "          12       0.40      0.41      0.41       621\n",
            "          13       0.36      0.37      0.37       537\n",
            "          14       0.56      0.42      0.48       289\n",
            "          15       0.37      0.18      0.24       325\n",
            "          16       0.51      0.30      0.38       185\n",
            "          17       0.37      0.09      0.14       198\n",
            "\n",
            "    accuracy                           0.45      9164\n",
            "   macro avg       0.43      0.39      0.40      9164\n",
            "weighted avg       0.43      0.45      0.43      9164\n",
            "\n",
            "accuracy: 0.447\n"
          ]
        }
      ]
    },
    {
      "cell_type": "markdown",
      "source": [
        "# count vectorizer with linear svc"
      ],
      "metadata": {
        "id": "SUubMrcUCAuw"
      }
    },
    {
      "cell_type": "code",
      "source": [
        "from sklearn.feature_extraction.text import CountVectorizer, TfidfVectorizer\n",
        "from sklearn.linear_model import LogisticRegression\n",
        "from sklearn.svm import LinearSVC\n",
        "from sklearn.pipeline import make_pipeline\n",
        "\n"
      ],
      "metadata": {
        "execution": {
          "iopub.status.busy": "2022-03-13T09:38:26.015960Z",
          "iopub.execute_input": "2022-03-13T09:38:26.016362Z",
          "iopub.status.idle": "2022-03-13T09:51:26.328767Z",
          "shell.execute_reply.started": "2022-03-13T09:38:26.016316Z",
          "shell.execute_reply": "2022-03-13T09:51:26.328024Z"
        },
        "trusted": true,
        "id": "F9XyLRAiCAux"
      },
      "execution_count": 1,
      "outputs": []
    },
    {
      "cell_type": "code",
      "source": [
        "vectorizer = CountVectorizer()\n",
        "clf = LinearSVC()\n",
        "pipe = make_pipeline(vectorizer, clf)\n",
        "pipe.fit(x_train, y_train);\n",
        "print_report(pipe, x_test, y_test)"
      ],
      "metadata": {
        "execution": {
          "iopub.status.busy": "2022-03-13T09:51:26.330013Z",
          "iopub.execute_input": "2022-03-13T09:51:26.330381Z",
          "iopub.status.idle": "2022-03-13T09:51:26.579690Z",
          "shell.execute_reply.started": "2022-03-13T09:51:26.330344Z",
          "shell.execute_reply": "2022-03-13T09:51:26.578512Z"
        },
        "trusted": true,
        "id": "vhTAyMUtCAuz"
      },
      "execution_count": null,
      "outputs": []
    },
    {
      "cell_type": "markdown",
      "source": [
        "# TF-IDF with linear svc"
      ],
      "metadata": {
        "id": "7EwxxBBdCAu0"
      }
    },
    {
      "cell_type": "code",
      "source": [
        "vectorizer = TfidfVectorizer()\n",
        "clf = LinearSVC()\n",
        "pipe = make_pipeline(vectorizer, clf)\n",
        "pipe.fit(x_train, y_train);"
      ],
      "metadata": {
        "execution": {
          "iopub.status.busy": "2022-03-13T09:51:26.580978Z",
          "iopub.execute_input": "2022-03-13T09:51:26.581214Z",
          "iopub.status.idle": "2022-03-13T09:52:51.456103Z",
          "shell.execute_reply.started": "2022-03-13T09:51:26.581186Z",
          "shell.execute_reply": "2022-03-13T09:52:51.455110Z"
        },
        "trusted": true,
        "id": "fI3ULXcCCAu0"
      },
      "execution_count": null,
      "outputs": []
    },
    {
      "cell_type": "code",
      "source": [
        "print_report(pipe, x_test, y_test)"
      ],
      "metadata": {
        "execution": {
          "iopub.status.busy": "2022-03-13T09:52:51.457849Z",
          "iopub.execute_input": "2022-03-13T09:52:51.458892Z",
          "iopub.status.idle": "2022-03-13T09:52:51.729139Z",
          "shell.execute_reply.started": "2022-03-13T09:52:51.458840Z",
          "shell.execute_reply": "2022-03-13T09:52:51.728148Z"
        },
        "trusted": true,
        "colab": {
          "base_uri": "https://localhost:8080/"
        },
        "id": "R9AlTMYOCAu2",
        "outputId": "45003169-d373-450b-e7c3-71bb41e00997"
      },
      "execution_count": 37,
      "outputs": [
        {
          "output_type": "stream",
          "name": "stdout",
          "text": [
            "              precision    recall  f1-score   support\n",
            "\n",
            "           0       0.45      0.45      0.45       526\n",
            "           1       0.43      0.39      0.41       526\n",
            "           2       0.61      0.55      0.58       324\n",
            "           3       0.72      0.86      0.79      1153\n",
            "           4       0.65      0.59      0.62       310\n",
            "           5       0.41      0.37      0.39       558\n",
            "           6       0.51      0.56      0.54       842\n",
            "           7       0.63      0.71      0.67       552\n",
            "           8       0.64      0.68      0.66       730\n",
            "           9       0.74      0.58      0.65       231\n",
            "          10       0.46      0.37      0.41       382\n",
            "          11       0.50      0.58      0.53       875\n",
            "          12       0.50      0.53      0.52       621\n",
            "          13       0.44      0.44      0.44       537\n",
            "          14       0.73      0.59      0.65       289\n",
            "          15       0.42      0.32      0.36       325\n",
            "          16       0.70      0.46      0.56       185\n",
            "          17       0.42      0.22      0.29       198\n",
            "\n",
            "    accuracy                           0.56      9164\n",
            "   macro avg       0.55      0.51      0.53      9164\n",
            "weighted avg       0.55      0.56      0.55      9164\n",
            "\n",
            "accuracy: 0.557\n"
          ]
        }
      ]
    },
    {
      "cell_type": "code",
      "source": [
        ""
      ],
      "metadata": {
        "id": "goenX7FrCAu3"
      },
      "execution_count": null,
      "outputs": []
    },
    {
      "cell_type": "markdown",
      "source": [
        "# Conclusion\n",
        "\n",
        "I discovered the best combination of results and computational power when text preprocessing without removing stop words or stemming (which is not appropriate for this task), the best text representation is TF-IDF, and the best ML model is linear SVC with an accuracy of 56%."
      ],
      "metadata": {
        "id": "1V8ssgxcCAu4"
      }
    },
    {
      "cell_type": "code",
      "source": [
        ""
      ],
      "metadata": {
        "id": "mwz9Bzg_CAu7"
      },
      "execution_count": null,
      "outputs": []
    },
    {
      "cell_type": "code",
      "source": [
        ""
      ],
      "metadata": {
        "id": "TGrXAaTICAu9"
      },
      "execution_count": null,
      "outputs": []
    },
    {
      "cell_type": "code",
      "source": [
        ""
      ],
      "metadata": {
        "id": "3QTM7UFECAvD"
      },
      "execution_count": null,
      "outputs": []
    },
    {
      "cell_type": "code",
      "source": [
        ""
      ],
      "metadata": {
        "id": "MMIt45_MCAvU"
      },
      "execution_count": null,
      "outputs": []
    },
    {
      "cell_type": "code",
      "source": [
        ""
      ],
      "metadata": {
        "id": "nzDmxmXvCAvb"
      },
      "execution_count": null,
      "outputs": []
    },
    {
      "cell_type": "code",
      "source": [
        ""
      ],
      "metadata": {
        "id": "pLIMPry2CAvc"
      },
      "execution_count": null,
      "outputs": []
    },
    {
      "cell_type": "code",
      "source": [
        ""
      ],
      "metadata": {
        "id": "FVZL95iiWDaR"
      },
      "execution_count": null,
      "outputs": []
    },
    {
      "cell_type": "code",
      "source": [
        ""
      ],
      "metadata": {
        "id": "Ck93Lr9vWDg_"
      },
      "execution_count": null,
      "outputs": []
    },
    {
      "cell_type": "code",
      "source": [
        ""
      ],
      "metadata": {
        "id": "qppb320dWDof"
      },
      "execution_count": null,
      "outputs": []
    },
    {
      "cell_type": "code",
      "source": [
        ""
      ],
      "metadata": {
        "id": "EokNohAZi7Es"
      },
      "execution_count": null,
      "outputs": []
    },
    {
      "cell_type": "code",
      "source": [
        ""
      ],
      "metadata": {
        "id": "uUXA6mVPjFV_"
      },
      "execution_count": null,
      "outputs": []
    },
    {
      "cell_type": "code",
      "source": [
        ""
      ],
      "metadata": {
        "id": "jarz6WeIjHPd"
      },
      "execution_count": null,
      "outputs": []
    },
    {
      "cell_type": "code",
      "source": [
        ""
      ],
      "metadata": {
        "id": "umbizoEYjJHy"
      },
      "execution_count": null,
      "outputs": []
    },
    {
      "cell_type": "code",
      "source": [
        ""
      ],
      "metadata": {
        "id": "EDdTrtWpjK4t"
      },
      "execution_count": null,
      "outputs": []
    },
    {
      "cell_type": "code",
      "source": [
        ""
      ],
      "metadata": {
        "id": "IA7vn-yVjNLZ"
      },
      "execution_count": null,
      "outputs": []
    }
  ]
}