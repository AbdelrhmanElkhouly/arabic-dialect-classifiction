{
  "cells": [
    {
      "cell_type": "code",
      "execution_count": null,
      "metadata": {
        "id": "XA3TKvNCiisG"
      },
      "outputs": [],
      "source": [
        "import pandas as pd\n",
        "import pandas as pd \n",
        "import numpy as np\n",
        "import string\n",
        "import nltk\n",
        "import re \n",
        "import os \n",
        "import random \n",
        "import matplotlib.pyplot as plt\n",
        "import seaborn as sns \n",
        "from sklearn.feature_extraction.text import CountVectorizer"
      ]
    },
    {
      "cell_type": "code",
      "execution_count": null,
      "metadata": {
        "id": "KckL1_MUUmh4"
      },
      "outputs": [],
      "source": [
        "df = pd.read_csv(\"/content/drive/MyDrive/all_data.csv\" , lineterminator='\\n')"
      ]
    },
    {
      "cell_type": "code",
      "execution_count": null,
      "metadata": {
        "colab": {
          "base_uri": "https://localhost:8080/"
        },
        "id": "N5gUampSVQiS",
        "outputId": "1d641230-86f4-4cbc-dd6e-0c0a989b5396"
      },
      "outputs": [
        {
          "name": "stdout",
          "output_type": "stream",
          "text": [
            "[nltk_data] Downloading package wordnet to /root/nltk_data...\n",
            "[nltk_data]   Unzipping corpora/wordnet.zip.\n"
          ]
        },
        {
          "data": {
            "text/plain": [
              "True"
            ]
          },
          "execution_count": 3,
          "metadata": {},
          "output_type": "execute_result"
        }
      ],
      "source": [
        "import nltk\n",
        "nltk.download('wordnet')"
      ]
    },
    {
      "cell_type": "code",
      "execution_count": null,
      "metadata": {
        "id": "NNvNX96SWG5Z"
      },
      "outputs": [],
      "source": [
        "arabic_punctuations = '''`÷×؛<>_()*&^%][ـ،/:\"؟.,'{}~¦+|!”…“–ـ'''\n",
        "english_punctuations = string.punctuation\n",
        "punctuations_list = arabic_punctuations + english_punctuations\n",
        "\n",
        "def remove_punctuations(text):\n",
        "    translator = str.maketrans('', '', punctuations_list)\n",
        "    return text.translate(translator)"
      ]
    },
    {
      "cell_type": "code",
      "execution_count": null,
      "metadata": {
        "id": "6HA2RtiYWJBQ"
      },
      "outputs": [],
      "source": [
        "def normalize_arabic(text):\n",
        "    text = re.sub(\"[إأآا]\", \"ا\", text)\n",
        "    text = re.sub(\"ى\", \"ي\", text)\n",
        "    text = re.sub(\"ه\", \"ه\", text)\n",
        "    text = re.sub(\"گ\", \"ك\", text)\n",
        "    return text"
      ]
    },
    {
      "cell_type": "code",
      "execution_count": null,
      "metadata": {
        "id": "7wVYEEtbWOGp"
      },
      "outputs": [],
      "source": [
        "def remove_repeating_char(text):\n",
        "    return re.sub(r'(.)\\1+', r'\\1', text)"
      ]
    },
    {
      "cell_type": "code",
      "execution_count": null,
      "metadata": {
        "id": "ZPxYUW24WPvA"
      },
      "outputs": [],
      "source": [
        "def nospecial(text):\n",
        "\timport re\n",
        "\ttext = re.sub(\"[a-zA-Z0-9]+\", \"\",text)\n",
        "\treturn text"
      ]
    },
    {
      "cell_type": "code",
      "execution_count": null,
      "metadata": {
        "id": "AJdZfUpPWRgo"
      },
      "outputs": [],
      "source": [
        "def preprocess_text(tweet): \n",
        "\n",
        "    #remove emoji\n",
        "    emoji_pattern = re.compile(\"[\"\n",
        "        u\"\\U0001F600-\\U0001F64F\"  # emoticons\n",
        "        u\"\\U0001F300-\\U0001F5FF\"  # symbols & pictographs\n",
        "        u\"\\U0001F680-\\U0001F6FF\"  # transport & map symbols\n",
        "        u\"\\U0001F1E0-\\U0001F1FF\"  # flags (iOS)\n",
        "                           \"]+\", flags=re.UNICODE)\n",
        "    tweet = emoji_pattern.sub(r'', tweet)\n",
        "    \n",
        "  \n",
        "    #remove tashkeel\n",
        "    p_tashkeel = re.compile(r'[\\u0617-\\u061A\\u064B-\\u0652]')\n",
        "    tweet = re.sub(p_tashkeel,\"\", tweet)\n",
        "\n",
        "    #Replace @username with empty string\n",
        "    tweet = re.sub('@[^\\s]+', ' ', tweet)\n",
        "    \n",
        "    #Convert www.* or https?://* to \" \"\n",
        "    tweet = re.sub('((www\\.[^\\s]+)|(https?://[^\\s]+))',' ',tweet)\n",
        "    \n",
        "    #Replace #word with word\n",
        "    tweet = re.sub(r'#([^\\s]+)', r'\\1', tweet)\n",
        "\n",
        "    # remove punctuations\n",
        "    tweet= remove_punctuations(tweet)\n",
        "    \n",
        "    # normalize the tweet\n",
        "     #tweet= normalize_arabic(tweet)\n",
        "    \n",
        "    # remove repeated letters\n",
        "    tweet=remove_repeating_char(tweet)\n",
        "\n",
        "    #remove non arabic words\n",
        "    tweet = nospecial(tweet)\n",
        "\n",
        "    #trim    \n",
        "    tweet = tweet.strip()\n",
        "\n",
        "    #   #text stemming\n",
        "    # from nltk.stem.isri import ISRIStemmer\n",
        "    # st = ISRIStemmer()\n",
        "    # ISRIStemmer().suf32(tweet)\n",
        "    \n",
        "    return tweet"
      ]
    },
    {
      "cell_type": "code",
      "execution_count": null,
      "metadata": {
        "colab": {
          "background_save": true,
          "base_uri": "https://localhost:8080/",
          "height": 206
        },
        "id": "s-sDggGOWTRp",
        "outputId": "89114aa4-c13c-4baa-ceda-d94c66a74a46"
      },
      "outputs": [
        {
          "data": {
            "text/html": [
              "\n",
              "  <div id=\"df-282f8b28-aba7-46f4-a928-22c172fc0842\">\n",
              "    <div class=\"colab-df-container\">\n",
              "      <div>\n",
              "<style scoped>\n",
              "    .dataframe tbody tr th:only-of-type {\n",
              "        vertical-align: middle;\n",
              "    }\n",
              "\n",
              "    .dataframe tbody tr th {\n",
              "        vertical-align: top;\n",
              "    }\n",
              "\n",
              "    .dataframe thead th {\n",
              "        text-align: right;\n",
              "    }\n",
              "</style>\n",
              "<table border=\"1\" class=\"dataframe\">\n",
              "  <thead>\n",
              "    <tr style=\"text-align: right;\">\n",
              "      <th></th>\n",
              "      <th>id</th>\n",
              "      <th>tweets</th>\n",
              "      <th>dialect</th>\n",
              "    </tr>\n",
              "  </thead>\n",
              "  <tbody>\n",
              "    <tr>\n",
              "      <th>0</th>\n",
              "      <td>1175358310087892992</td>\n",
              "      <td>لكن بالنهاية ينتفض يغير</td>\n",
              "      <td>IQ</td>\n",
              "    </tr>\n",
              "    <tr>\n",
              "      <th>1</th>\n",
              "      <td>1175416117793349632</td>\n",
              "      <td>يعني هذا محسوب على البشر حيونه وحشيه وتطلبون م...</td>\n",
              "      <td>IQ</td>\n",
              "    </tr>\n",
              "    <tr>\n",
              "      <th>2</th>\n",
              "      <td>1175450108898565888</td>\n",
              "      <td>مبين من كلامه خليجي</td>\n",
              "      <td>IQ</td>\n",
              "    </tr>\n",
              "    <tr>\n",
              "      <th>3</th>\n",
              "      <td>1175471073770573824</td>\n",
              "      <td>يسلملي مرورك وروحك الحلوه</td>\n",
              "      <td>IQ</td>\n",
              "    </tr>\n",
              "    <tr>\n",
              "      <th>4</th>\n",
              "      <td>1175496913145217024</td>\n",
              "      <td>وين هل الغيبه اخ محمد</td>\n",
              "      <td>IQ</td>\n",
              "    </tr>\n",
              "  </tbody>\n",
              "</table>\n",
              "</div>\n",
              "      <button class=\"colab-df-convert\" onclick=\"convertToInteractive('df-282f8b28-aba7-46f4-a928-22c172fc0842')\"\n",
              "              title=\"Convert this dataframe to an interactive table.\"\n",
              "              style=\"display:none;\">\n",
              "        \n",
              "  <svg xmlns=\"http://www.w3.org/2000/svg\" height=\"24px\"viewBox=\"0 0 24 24\"\n",
              "       width=\"24px\">\n",
              "    <path d=\"M0 0h24v24H0V0z\" fill=\"none\"/>\n",
              "    <path d=\"M18.56 5.44l.94 2.06.94-2.06 2.06-.94-2.06-.94-.94-2.06-.94 2.06-2.06.94zm-11 1L8.5 8.5l.94-2.06 2.06-.94-2.06-.94L8.5 2.5l-.94 2.06-2.06.94zm10 10l.94 2.06.94-2.06 2.06-.94-2.06-.94-.94-2.06-.94 2.06-2.06.94z\"/><path d=\"M17.41 7.96l-1.37-1.37c-.4-.4-.92-.59-1.43-.59-.52 0-1.04.2-1.43.59L10.3 9.45l-7.72 7.72c-.78.78-.78 2.05 0 2.83L4 21.41c.39.39.9.59 1.41.59.51 0 1.02-.2 1.41-.59l7.78-7.78 2.81-2.81c.8-.78.8-2.07 0-2.86zM5.41 20L4 18.59l7.72-7.72 1.47 1.35L5.41 20z\"/>\n",
              "  </svg>\n",
              "      </button>\n",
              "      \n",
              "  <style>\n",
              "    .colab-df-container {\n",
              "      display:flex;\n",
              "      flex-wrap:wrap;\n",
              "      gap: 12px;\n",
              "    }\n",
              "\n",
              "    .colab-df-convert {\n",
              "      background-color: #E8F0FE;\n",
              "      border: none;\n",
              "      border-radius: 50%;\n",
              "      cursor: pointer;\n",
              "      display: none;\n",
              "      fill: #1967D2;\n",
              "      height: 32px;\n",
              "      padding: 0 0 0 0;\n",
              "      width: 32px;\n",
              "    }\n",
              "\n",
              "    .colab-df-convert:hover {\n",
              "      background-color: #E2EBFA;\n",
              "      box-shadow: 0px 1px 2px rgba(60, 64, 67, 0.3), 0px 1px 3px 1px rgba(60, 64, 67, 0.15);\n",
              "      fill: #174EA6;\n",
              "    }\n",
              "\n",
              "    [theme=dark] .colab-df-convert {\n",
              "      background-color: #3B4455;\n",
              "      fill: #D2E3FC;\n",
              "    }\n",
              "\n",
              "    [theme=dark] .colab-df-convert:hover {\n",
              "      background-color: #434B5C;\n",
              "      box-shadow: 0px 1px 3px 1px rgba(0, 0, 0, 0.15);\n",
              "      filter: drop-shadow(0px 1px 2px rgba(0, 0, 0, 0.3));\n",
              "      fill: #FFFFFF;\n",
              "    }\n",
              "  </style>\n",
              "\n",
              "      <script>\n",
              "        const buttonEl =\n",
              "          document.querySelector('#df-282f8b28-aba7-46f4-a928-22c172fc0842 button.colab-df-convert');\n",
              "        buttonEl.style.display =\n",
              "          google.colab.kernel.accessAllowed ? 'block' : 'none';\n",
              "\n",
              "        async function convertToInteractive(key) {\n",
              "          const element = document.querySelector('#df-282f8b28-aba7-46f4-a928-22c172fc0842');\n",
              "          const dataTable =\n",
              "            await google.colab.kernel.invokeFunction('convertToInteractive',\n",
              "                                                     [key], {});\n",
              "          if (!dataTable) return;\n",
              "\n",
              "          const docLinkHtml = 'Like what you see? Visit the ' +\n",
              "            '<a target=\"_blank\" href=https://colab.research.google.com/notebooks/data_table.ipynb>data table notebook</a>'\n",
              "            + ' to learn more about interactive tables.';\n",
              "          element.innerHTML = '';\n",
              "          dataTable['output_type'] = 'display_data';\n",
              "          await google.colab.output.renderOutput(dataTable, element);\n",
              "          const docLink = document.createElement('div');\n",
              "          docLink.innerHTML = docLinkHtml;\n",
              "          element.appendChild(docLink);\n",
              "        }\n",
              "      </script>\n",
              "    </div>\n",
              "  </div>\n",
              "  "
            ],
            "text/plain": [
              "                    id                                             tweets  \\\n",
              "0  1175358310087892992                            لكن بالنهاية ينتفض يغير   \n",
              "1  1175416117793349632  يعني هذا محسوب على البشر حيونه وحشيه وتطلبون م...   \n",
              "2  1175450108898565888                                مبين من كلامه خليجي   \n",
              "3  1175471073770573824                          يسلملي مرورك وروحك الحلوه   \n",
              "4  1175496913145217024                              وين هل الغيبه اخ محمد   \n",
              "\n",
              "  dialect  \n",
              "0      IQ  \n",
              "1      IQ  \n",
              "2      IQ  \n",
              "3      IQ  \n",
              "4      IQ  "
            ]
          },
          "execution_count": null,
          "metadata": {},
          "output_type": "execute_result"
        }
      ],
      "source": [
        "df.tweets = df.tweets.map(preprocess_text)\n",
        "df.head()"
      ]
    },
    {
      "cell_type": "code",
      "execution_count": null,
      "metadata": {
        "colab": {
          "background_save": true
        },
        "id": "txWRp36HWWeA"
      },
      "outputs": [],
      "source": [
        "# from nltk.tokenize import RegexpTokenizer\n",
        "# tokenizer = RegexpTokenizer(r'\\w+')\n",
        "# df[\"tweets\"] = df[\"tweets\"].apply(tokenizer.tokenize)"
      ]
    },
    {
      "cell_type": "code",
      "execution_count": null,
      "metadata": {
        "colab": {
          "background_save": true
        },
        "id": "VN1j52Z9WYdI"
      },
      "outputs": [],
      "source": [
        "# from nltk.corpus import stopwords\n",
        "# import nltk"
      ]
    },
    {
      "cell_type": "code",
      "execution_count": null,
      "metadata": {
        "colab": {
          "background_save": true
        },
        "id": "xpPzpTbCWapg"
      },
      "outputs": [],
      "source": [
        "# nltk.download('stopwords')\n",
        "# stopwords_list = stopwords.words('arabic')"
      ]
    },
    {
      "cell_type": "code",
      "execution_count": null,
      "metadata": {
        "colab": {
          "background_save": true
        },
        "id": "_QfQsYq4WqIA"
      },
      "outputs": [],
      "source": [
        "# from nltk.corpus import stopwords\n",
        "# import nltk"
      ]
    },
    {
      "cell_type": "code",
      "execution_count": null,
      "metadata": {
        "colab": {
          "background_save": true
        },
        "id": "vghSvOvNWuuK"
      },
      "outputs": [],
      "source": [
        "# nltk.download('stopwords')\n",
        "# stopwords_list = stopwords.words('arabic')"
      ]
    },
    {
      "cell_type": "code",
      "execution_count": null,
      "metadata": {
        "colab": {
          "background_save": true
        },
        "id": "eADP0RTAWvmX"
      },
      "outputs": [],
      "source": [
        "# df[\"tweets\"]=df[\"tweets\"].apply(lambda x: [item for item in x if item not in stopwords_list])"
      ]
    },
    {
      "cell_type": "code",
      "execution_count": null,
      "metadata": {
        "colab": {
          "background_save": true
        },
        "id": "t3lhY53yxNEH"
      },
      "outputs": [],
      "source": [
        ""
      ]
    },
    {
      "cell_type": "code",
      "execution_count": null,
      "metadata": {
        "colab": {
          "background_save": true
        },
        "id": "EHuA34r2W5sY"
      },
      "outputs": [],
      "source": [
        "# # vocabulary of words present in dataset\n",
        "# data_vocab = []\n",
        "# for text in df.tweets:\n",
        "#     for word in text:\n",
        "#         if word not in data_vocab:\n",
        "#             data_vocab.append(word)"
      ]
    },
    {
      "cell_type": "code",
      "execution_count": null,
      "metadata": {
        "colab": {
          "background_save": true
        },
        "id": "OLvXeCwQW5xr"
      },
      "outputs": [],
      "source": [
        "# len(data_vocab)"
      ]
    },
    {
      "cell_type": "code",
      "execution_count": null,
      "metadata": {
        "colab": {
          "background_save": true
        },
        "id": "9z8KAuvmWxeg"
      },
      "outputs": [],
      "source": [
        "df[\"tweets\"]=df[\"tweets\"].apply(lambda x: \" \".join(x) )\n"
      ]
    },
    {
      "cell_type": "code",
      "execution_count": null,
      "metadata": {
        "colab": {
          "background_save": true,
          "base_uri": "https://localhost:8080/",
          "height": 206
        },
        "id": "wsx_GOsZW4JQ",
        "outputId": "203a7bdc-4179-4db9-c280-8eb506e6b1a5"
      },
      "outputs": [
        {
          "data": {
            "text/html": [
              "\n",
              "  <div id=\"df-83f3d7dd-af14-4f38-b46c-6d295e888dd0\">\n",
              "    <div class=\"colab-df-container\">\n",
              "      <div>\n",
              "<style scoped>\n",
              "    .dataframe tbody tr th:only-of-type {\n",
              "        vertical-align: middle;\n",
              "    }\n",
              "\n",
              "    .dataframe tbody tr th {\n",
              "        vertical-align: top;\n",
              "    }\n",
              "\n",
              "    .dataframe thead th {\n",
              "        text-align: right;\n",
              "    }\n",
              "</style>\n",
              "<table border=\"1\" class=\"dataframe\">\n",
              "  <thead>\n",
              "    <tr style=\"text-align: right;\">\n",
              "      <th></th>\n",
              "      <th>id</th>\n",
              "      <th>tweets</th>\n",
              "      <th>dialect</th>\n",
              "    </tr>\n",
              "  </thead>\n",
              "  <tbody>\n",
              "    <tr>\n",
              "      <th>0</th>\n",
              "      <td>1175358310087892992</td>\n",
              "      <td>ل ك ن   ب ا ل ن ه ا ي ة   ي ن ت ف ض   ي غ ي ر</td>\n",
              "      <td>IQ</td>\n",
              "    </tr>\n",
              "    <tr>\n",
              "      <th>1</th>\n",
              "      <td>1175416117793349632</td>\n",
              "      <td>ي ع ن ي   ه ذ ا   م ح س و ب   ع ل ى   ا ل ب ش ...</td>\n",
              "      <td>IQ</td>\n",
              "    </tr>\n",
              "    <tr>\n",
              "      <th>2</th>\n",
              "      <td>1175450108898565888</td>\n",
              "      <td>م ب ي ن   م ن   ك ل ا م ه   خ ل ي ج ي</td>\n",
              "      <td>IQ</td>\n",
              "    </tr>\n",
              "    <tr>\n",
              "      <th>3</th>\n",
              "      <td>1175471073770573824</td>\n",
              "      <td>ي س ل م ل ي   م ر و ر ك   و ر و ح ك   ا ل ح ل و ه</td>\n",
              "      <td>IQ</td>\n",
              "    </tr>\n",
              "    <tr>\n",
              "      <th>4</th>\n",
              "      <td>1175496913145217024</td>\n",
              "      <td>و ي ن   ه ل   ا ل غ ي ب ه   ا خ   م ح م د</td>\n",
              "      <td>IQ</td>\n",
              "    </tr>\n",
              "  </tbody>\n",
              "</table>\n",
              "</div>\n",
              "      <button class=\"colab-df-convert\" onclick=\"convertToInteractive('df-83f3d7dd-af14-4f38-b46c-6d295e888dd0')\"\n",
              "              title=\"Convert this dataframe to an interactive table.\"\n",
              "              style=\"display:none;\">\n",
              "        \n",
              "  <svg xmlns=\"http://www.w3.org/2000/svg\" height=\"24px\"viewBox=\"0 0 24 24\"\n",
              "       width=\"24px\">\n",
              "    <path d=\"M0 0h24v24H0V0z\" fill=\"none\"/>\n",
              "    <path d=\"M18.56 5.44l.94 2.06.94-2.06 2.06-.94-2.06-.94-.94-2.06-.94 2.06-2.06.94zm-11 1L8.5 8.5l.94-2.06 2.06-.94-2.06-.94L8.5 2.5l-.94 2.06-2.06.94zm10 10l.94 2.06.94-2.06 2.06-.94-2.06-.94-.94-2.06-.94 2.06-2.06.94z\"/><path d=\"M17.41 7.96l-1.37-1.37c-.4-.4-.92-.59-1.43-.59-.52 0-1.04.2-1.43.59L10.3 9.45l-7.72 7.72c-.78.78-.78 2.05 0 2.83L4 21.41c.39.39.9.59 1.41.59.51 0 1.02-.2 1.41-.59l7.78-7.78 2.81-2.81c.8-.78.8-2.07 0-2.86zM5.41 20L4 18.59l7.72-7.72 1.47 1.35L5.41 20z\"/>\n",
              "  </svg>\n",
              "      </button>\n",
              "      \n",
              "  <style>\n",
              "    .colab-df-container {\n",
              "      display:flex;\n",
              "      flex-wrap:wrap;\n",
              "      gap: 12px;\n",
              "    }\n",
              "\n",
              "    .colab-df-convert {\n",
              "      background-color: #E8F0FE;\n",
              "      border: none;\n",
              "      border-radius: 50%;\n",
              "      cursor: pointer;\n",
              "      display: none;\n",
              "      fill: #1967D2;\n",
              "      height: 32px;\n",
              "      padding: 0 0 0 0;\n",
              "      width: 32px;\n",
              "    }\n",
              "\n",
              "    .colab-df-convert:hover {\n",
              "      background-color: #E2EBFA;\n",
              "      box-shadow: 0px 1px 2px rgba(60, 64, 67, 0.3), 0px 1px 3px 1px rgba(60, 64, 67, 0.15);\n",
              "      fill: #174EA6;\n",
              "    }\n",
              "\n",
              "    [theme=dark] .colab-df-convert {\n",
              "      background-color: #3B4455;\n",
              "      fill: #D2E3FC;\n",
              "    }\n",
              "\n",
              "    [theme=dark] .colab-df-convert:hover {\n",
              "      background-color: #434B5C;\n",
              "      box-shadow: 0px 1px 3px 1px rgba(0, 0, 0, 0.15);\n",
              "      filter: drop-shadow(0px 1px 2px rgba(0, 0, 0, 0.3));\n",
              "      fill: #FFFFFF;\n",
              "    }\n",
              "  </style>\n",
              "\n",
              "      <script>\n",
              "        const buttonEl =\n",
              "          document.querySelector('#df-83f3d7dd-af14-4f38-b46c-6d295e888dd0 button.colab-df-convert');\n",
              "        buttonEl.style.display =\n",
              "          google.colab.kernel.accessAllowed ? 'block' : 'none';\n",
              "\n",
              "        async function convertToInteractive(key) {\n",
              "          const element = document.querySelector('#df-83f3d7dd-af14-4f38-b46c-6d295e888dd0');\n",
              "          const dataTable =\n",
              "            await google.colab.kernel.invokeFunction('convertToInteractive',\n",
              "                                                     [key], {});\n",
              "          if (!dataTable) return;\n",
              "\n",
              "          const docLinkHtml = 'Like what you see? Visit the ' +\n",
              "            '<a target=\"_blank\" href=https://colab.research.google.com/notebooks/data_table.ipynb>data table notebook</a>'\n",
              "            + ' to learn more about interactive tables.';\n",
              "          element.innerHTML = '';\n",
              "          dataTable['output_type'] = 'display_data';\n",
              "          await google.colab.output.renderOutput(dataTable, element);\n",
              "          const docLink = document.createElement('div');\n",
              "          docLink.innerHTML = docLinkHtml;\n",
              "          element.appendChild(docLink);\n",
              "        }\n",
              "      </script>\n",
              "    </div>\n",
              "  </div>\n",
              "  "
            ],
            "text/plain": [
              "                    id                                             tweets  \\\n",
              "0  1175358310087892992      ل ك ن   ب ا ل ن ه ا ي ة   ي ن ت ف ض   ي غ ي ر   \n",
              "1  1175416117793349632  ي ع ن ي   ه ذ ا   م ح س و ب   ع ل ى   ا ل ب ش ...   \n",
              "2  1175450108898565888              م ب ي ن   م ن   ك ل ا م ه   خ ل ي ج ي   \n",
              "3  1175471073770573824  ي س ل م ل ي   م ر و ر ك   و ر و ح ك   ا ل ح ل و ه   \n",
              "4  1175496913145217024          و ي ن   ه ل   ا ل غ ي ب ه   ا خ   م ح م د   \n",
              "\n",
              "  dialect  \n",
              "0      IQ  \n",
              "1      IQ  \n",
              "2      IQ  \n",
              "3      IQ  \n",
              "4      IQ  "
            ]
          },
          "execution_count": null,
          "metadata": {},
          "output_type": "execute_result"
        }
      ],
      "source": [
        "df.head()"
      ]
    },
    {
      "cell_type": "code",
      "execution_count": null,
      "metadata": {
        "colab": {
          "background_save": true
        },
        "id": "Cdf05bAcXPYw"
      },
      "outputs": [],
      "source": [
        "## Load the data to get started\n",
        "import pandas as pd\n",
        "import numpy as np\n",
        "import tensorflow as tf\n",
        "import spacy\n",
        "import numpy as np # linear algebra\n",
        "import pandas as pd # data processing, CSV file I/O (e.g. pd.read_csv)\n",
        "from sklearn.feature_extraction.text import CountVectorizer\n",
        "from keras.preprocessing.text import Tokenizer\n",
        "from keras.preprocessing.sequence import pad_sequences\n",
        "from keras.models import Sequential\n",
        "from keras.layers import Dense, Embedding, LSTM, SpatialDropout1D\n",
        "from sklearn.model_selection import train_test_split\n",
        "from keras.utils.np_utils import to_categorical\n",
        "import re\n",
        "import keras"
      ]
    },
    {
      "cell_type": "code",
      "execution_count": null,
      "metadata": {
        "id": "1rBjpJKtc5kI"
      },
      "outputs": [],
      "source": [
        "max_fatures = 5000\n",
        "tokenizer = Tokenizer(num_words = max_fatures , split=' ')\n",
        "tokenizer.fit_on_texts(df['tweets'].values)\n",
        "X = tokenizer.texts_to_sequences(df['tweets'].values)\n",
        "X = pad_sequences(X)"
      ]
    },
    {
      "cell_type": "code",
      "execution_count": null,
      "metadata": {
        "colab": {
          "base_uri": "https://localhost:8080/"
        },
        "id": "Fu0X-aSfdVnB",
        "outputId": "ce283e03-0b94-4631-deac-963cb7824845"
      },
      "outputs": [
        {
          "data": {
            "text/plain": [
              "(458197, 61)"
            ]
          },
          "execution_count": 36,
          "metadata": {},
          "output_type": "execute_result"
        }
      ],
      "source": [
        "X.shape"
      ]
    },
    {
      "cell_type": "code",
      "execution_count": null,
      "metadata": {
        "id": "U_KL7XSTFtmt"
      },
      "outputs": [],
      "source": [
        "import pickle\n",
        "  # download tokenizer\n",
        "with open('tokenizer.pickle', 'wb')as handle:\n",
        "  pickle. dump(tokenizer, handle, protocol=pickle. HIGHEST_PROTOCOL)                        \n"
      ]
    },
    {
      "cell_type": "code",
      "execution_count": null,
      "metadata": {
        "id": "hDtW7krmHJrK"
      },
      "outputs": [],
      "source": [
        "  # loading.\n",
        "with open('tokenizer.pickle', 'rb') as handle:\n",
        "    tokenizer = pickle. load(handle)"
      ]
    },
    {
      "cell_type": "code",
      "execution_count": null,
      "metadata": {
        "colab": {
          "base_uri": "https://localhost:8080/"
        },
        "id": "oMPUMRycdZLe",
        "outputId": "f825966f-5636-4116-aec9-b75a4a1b4121"
      },
      "outputs": [
        {
          "name": "stdout",
          "output_type": "stream",
          "text": [
            "Model: \"sequential\"\n",
            "_________________________________________________________________\n",
            " Layer (type)                Output Shape              Param #   \n",
            "=================================================================\n",
            " embedding (Embedding)       (None, 61, 128)           640000    \n",
            "                                                                 \n",
            " spatial_dropout1d (SpatialD  (None, 61, 128)          0         \n",
            " ropout1D)                                                       \n",
            "                                                                 \n",
            " lstm (LSTM)                 (None, 196)               254800    \n",
            "                                                                 \n",
            " dense (Dense)               (None, 64)                12608     \n",
            "                                                                 \n",
            " dense_1 (Dense)             (None, 18)                1170      \n",
            "                                                                 \n",
            "=================================================================\n",
            "Total params: 908,578\n",
            "Trainable params: 908,578\n",
            "Non-trainable params: 0\n",
            "_________________________________________________________________\n",
            "None\n"
          ]
        }
      ],
      "source": [
        "embed_dim = 128\n",
        "lstm_out = 196\n",
        "\n",
        "model = Sequential()\n",
        "model.add(Embedding(max_fatures, embed_dim,input_length = X.shape[1]))\n",
        "model.add(SpatialDropout1D(0.4))\n",
        "model.add(LSTM(lstm_out, dropout=0.2, recurrent_dropout=0.2))\n",
        "model.add(tf.keras.layers.Dense(64, activation='relu'))\n",
        "model.add(tf.keras.layers.Dense(32, activation='relu'))\n",
        "model.add(Dense(18,activation='softmax'))\n",
        "model.compile(loss = 'categorical_crossentropy', optimizer='adam',metrics = ['accuracy'])\n",
        "print(model.summary())"
      ]
    },
    {
      "cell_type": "code",
      "execution_count": null,
      "metadata": {
        "colab": {
          "base_uri": "https://localhost:8080/"
        },
        "id": "UUnXPRSCdjf4",
        "outputId": "445f4dd3-6f54-4193-ae6e-01950a04338e"
      },
      "outputs": [
        {
          "name": "stdout",
          "output_type": "stream",
          "text": [
            "Requirement already satisfied: pydot in /usr/local/lib/python3.7/dist-packages (1.3.0)\n",
            "Requirement already satisfied: graphviz in /usr/local/lib/python3.7/dist-packages (0.10.1)\n",
            "Requirement already satisfied: pyparsing>=2.1.4 in /usr/local/lib/python3.7/dist-packages (from pydot) (3.0.7)\n"
          ]
        }
      ],
      "source": [
        "!pip install pydot graphviz"
      ]
    },
    {
      "cell_type": "code",
      "execution_count": null,
      "metadata": {
        "colab": {
          "base_uri": "https://localhost:8080/",
          "height": 564
        },
        "id": "Fm3uSG0vdmN_",
        "outputId": "176fff5b-72d2-4403-b033-83858c56a081"
      },
      "outputs": [
        {
          "data": {
            "image/png": "[encoded data removed]",
            "text/plain": [
              "<IPython.core.display.Image object>"
            ]
          },
          "execution_count": 26,
          "metadata": {},
          "output_type": "execute_result"
        }
      ],
      "source": [
        "tf.keras.utils.plot_model(\n",
        "    model, show_shapes=False, show_layer_names=True,\n",
        "    rankdir='TB', expand_nested=False, dpi=96\n",
        ")"
      ]
    },
    {
      "cell_type": "code",
      "execution_count": null,
      "metadata": {
        "id": "JNtEfFTaR0np"
      },
      "outputs": [],
      "source": [
        "Y = pd.get_dummies(df['dialect'])"
      ]
    },
    {
      "cell_type": "code",
      "execution_count": null,
      "metadata": {
        "id": "-EfusMttR2c-"
      },
      "outputs": [],
      "source": [
        "\n",
        "label_encodding = {\n",
        "    0:\"AE\" , \n",
        "    1:\"BH\" ,\n",
        "    2:\"DZ\",\n",
        "    3:\"EG\",\n",
        "    4:\"IQ\",\n",
        "    5:\"JO\",\n",
        "    6:\"KW\",\n",
        "    7:\"LB\",\n",
        "    8:\"LY\",\n",
        "    9:\"MA\",\n",
        "    10:\"OM\",\n",
        "    11:\"PL\",\n",
        "    12:\"QA\",\n",
        "    13:\"SA\",\n",
        "    14:\"SD\",\n",
        "    15:\"SY\",\n",
        "    16:\"TN\",\n",
        "    17:\"YE\"}"
      ]
    },
    {
      "cell_type": "code",
      "execution_count": null,
      "metadata": {
        "id": "muQ1maseR2jU"
      },
      "outputs": [],
      "source": [
        ""
      ]
    },
    {
      "cell_type": "code",
      "execution_count": null,
      "metadata": {
        "colab": {
          "base_uri": "https://localhost:8080/"
        },
        "id": "QzxCgVtcdop3",
        "outputId": "1f5e5892-32e0-41a4-8ad7-7431682062f0"
      },
      "outputs": [
        {
          "name": "stdout",
          "output_type": "stream",
          "text": [
            "(412377, 61) (412377, 18)\n",
            "(45820, 61) (45820, 18)\n"
          ]
        }
      ],
      "source": [
        "Y = pd.get_dummies(df['dialect']).values\n",
        "X_train, X_test, Y_train, Y_test = train_test_split(X,Y, test_size = 0.02, random_state = 42 , shuffle=True )\n",
        "print(X_train.shape,Y_train.shape)\n",
        "print(X_test.shape,Y_test.shape)"
      ]
    },
    {
      "cell_type": "code",
      "execution_count": null,
      "metadata": {
        "colab": {
          "base_uri": "https://localhost:8080/"
        },
        "id": "BLLnfVYPd2Kw",
        "outputId": "48eec519-9cae-44f7-9639-bbad5023e4ac"
      },
      "outputs": [
        {
          "name": "stdout",
          "output_type": "stream",
          "text": [
            "Epoch 1/10\n",
            "5800/5800 [==============================] - 3039s 523ms/step - loss: 2.0454 - accuracy: 0.3493 - val_loss: 1.8724 - val_accuracy: 0.4034\n",
            "Epoch 2/10\n",
            "5800/5800 [==============================] - 2987s 515ms/step - loss: 1.8518 - accuracy: 0.4118 - val_loss: 1.8241 - val_accuracy: 0.4202\n",
            "Epoch 3/10\n",
            "5800/5800 [==============================] - 2991s 516ms/step - loss: 1.7957 - accuracy: 0.4297 - val_loss: 1.8081 - val_accuracy: 0.4252\n",
            "Epoch 4/10\n",
            "5800/5800 [==============================] - 2968s 512ms/step - loss: 1.7604 - accuracy: 0.4391 - val_loss: 1.7962 - val_accuracy: 0.4256\n",
            "Epoch 5/10\n",
            "5800/5800 [==============================] - 2967s 511ms/step - loss: 1.7368 - accuracy: 0.4468 - val_loss: 1.7840 - val_accuracy: 0.4287\n",
            "Epoch 6/10\n",
            "5800/5800 [==============================] - 2977s 513ms/step - loss: 1.7166 - accuracy: 0.4519 - val_loss: 1.7865 - val_accuracy: 0.4278\n",
            "Epoch 7/10\n",
            "5800/5800 [==============================] - 2957s 510ms/step - loss: 1.7002 - accuracy: 0.4569 - val_loss: 1.7885 - val_accuracy: 0.4297\n",
            "Epoch 8/10\n",
            "5800/5800 [==============================] - 2989s 515ms/step - loss: 1.6860 - accuracy: 0.4603 - val_loss: 1.7870 - val_accuracy: 0.4322\n"
          ]
        }
      ],
      "source": [
        "# Creat checkpoint to save model at the end of each epoch:\n",
        "checkpoint_cb = keras.callbacks.ModelCheckpoint(\"my_keras_model.h5\", save_best_only=True)\n",
        "\n",
        "# Creat EarlyStopping checkpoint:\n",
        "early_stopping_cb = keras.callbacks.EarlyStopping(patience = 5, restore_best_weights=True)\n",
        "\n",
        "\n",
        "history = model.fit(X_train, Y_train, epochs = 15 , validation_split = 0.02 , callbacks=[checkpoint_cb, early_stopping_cb], batch_size = 2000)"
      ]
    },
    {
      "cell_type": "markdown",
      "metadata": {
        "id": "9WuSh8rfKC4O"
      },
      "source": [
        ""
      ]
    },
    {
      "cell_type": "code",
      "execution_count": null,
      "metadata": {
        "colab": {
          "base_uri": "https://localhost:8080/",
          "height": 320
        },
        "id": "XGdNk5h6eAwf",
        "outputId": "6d89617f-08f5-42b8-dbd2-f19cf0a4f122"
      },
      "outputs": [
        {
          "data": {
            "image/png": "[encoded data removed]",
            "text/plain": [
              "<Figure size 720x360 with 1 Axes>"
            ]
          },
          "metadata": {},
          "output_type": "display_data"
        }
      ],
      "source": [
        "import pandas as pd\n",
        "import matplotlib.pyplot as plt\n",
        "\n",
        "learning_data = pd.DataFrame(history.history)\n",
        "# learning_data.head()\n",
        "learning_data.plot(figsize=(10,5))\n",
        "plt.grid(True)\n",
        "plt.show()"
      ]
    },
    {
      "cell_type": "code",
      "execution_count": null,
      "metadata": {
        "id": "cWj9mz76eTZm"
      },
      "outputs": [],
      "source": [
        "from sklearn.metrics import classification_report, confusion_matrix"
      ]
    },
    {
      "cell_type": "code",
      "execution_count": null,
      "metadata": {
        "id": "akca0ix-ebrv"
      },
      "outputs": [],
      "source": [
        "Y_pred = model.predict(X_test) "
      ]
    },
    {
      "cell_type": "code",
      "execution_count": null,
      "metadata": {
        "id": "RRbU1QwLefEH"
      },
      "outputs": [],
      "source": [
        "classes_x = np.argmax(Y_pred,axis=1)"
      ]
    },
    {
      "cell_type": "code",
      "execution_count": null,
      "metadata": {
        "colab": {
          "base_uri": "https://localhost:8080/"
        },
        "id": "e6R8m4TSehjN",
        "outputId": "040d021f-885a-4211-ecbd-4961f44ee24b"
      },
      "outputs": [
        {
          "data": {
            "text/plain": [
              "array([13,  5,  9, ...,  3, 12,  8])"
            ]
          },
          "execution_count": 33,
          "metadata": {},
          "output_type": "execute_result"
        }
      ],
      "source": [
        "classes_x"
      ]
    },
    {
      "cell_type": "code",
      "execution_count": null,
      "metadata": {
        "colab": {
          "base_uri": "https://localhost:8080/"
        },
        "id": "aLvyZgUCelsw",
        "outputId": "d6e2c720-8a63-47a9-882b-ec0fd0bcdc83"
      },
      "outputs": [
        {
          "data": {
            "text/plain": [
              "array([[6.0052895e-05, 6.0974224e-05, 1.5123494e-06, ..., 7.9228821e-06,\n",
              "        2.2509637e-05, 9.2924856e-05],\n",
              "       [4.0463965e-02, 3.0009059e-02, 3.5261228e-03, ..., 2.9411180e-02,\n",
              "        1.8279873e-03, 8.1320852e-03],\n",
              "       [1.2661379e-02, 2.6861025e-02, 2.1530060e-01, ..., 4.1654659e-03,\n",
              "        2.2157345e-02, 1.3846954e-02],\n",
              "       ...,\n",
              "       [3.3399917e-03, 6.6467171e-04, 1.8256120e-03, ..., 4.1573410e-04,\n",
              "        5.7740738e-03, 1.0921957e-03],\n",
              "       [6.3066252e-02, 9.6669376e-02, 1.9593343e-02, ..., 4.8638906e-02,\n",
              "        7.2538052e-03, 3.4486685e-02],\n",
              "       [2.9972667e-02, 1.6791774e-02, 2.8838557e-01, ..., 2.3643777e-02,\n",
              "        1.2945279e-02, 1.7273482e-02]], dtype=float32)"
            ]
          },
          "execution_count": 34,
          "metadata": {},
          "output_type": "execute_result"
        }
      ],
      "source": [
        "Y_pred"
      ]
    },
    {
      "cell_type": "code",
      "execution_count": null,
      "metadata": {
        "colab": {
          "base_uri": "https://localhost:8080/"
        },
        "id": "bczcKOrUeniX",
        "outputId": "9966a763-e307-4102-a536-bdde29bb9268"
      },
      "outputs": [
        {
          "data": {
            "text/plain": [
              "array([[0, 0, 0, ..., 0, 0, 0],\n",
              "       [0, 0, 0, ..., 0, 0, 0],\n",
              "       [0, 0, 0, ..., 0, 0, 0],\n",
              "       ...,\n",
              "       [0, 0, 0, ..., 0, 0, 0],\n",
              "       [0, 0, 0, ..., 0, 0, 0],\n",
              "       [0, 0, 0, ..., 0, 0, 0]], dtype=uint8)"
            ]
          },
          "execution_count": 35,
          "metadata": {},
          "output_type": "execute_result"
        }
      ],
      "source": [
        "Y_test"
      ]
    },
    {
      "cell_type": "code",
      "execution_count": null,
      "metadata": {
        "colab": {
          "base_uri": "https://localhost:8080/"
        },
        "id": "-c92HNEaepRP",
        "outputId": "6a9ee97b-3267-4178-f4d3-844b469a15fa"
      },
      "outputs": [
        {
          "data": {
            "text/plain": [
              "6"
            ]
          },
          "execution_count": 36,
          "metadata": {},
          "output_type": "execute_result"
        }
      ],
      "source": [
        "import numpy as np\n",
        "Y_test_labels=np.argmax(Y_test, axis=1)\n",
        "Y_test_labels[1]"
      ]
    },
    {
      "cell_type": "code",
      "execution_count": null,
      "metadata": {
        "colab": {
          "base_uri": "https://localhost:8080/"
        },
        "id": "2O2_IgJsesl2",
        "outputId": "77816104-0d32-4fe7-c00d-0c1055b38824"
      },
      "outputs": [
        {
          "data": {
            "text/plain": [
              "array([[ 775,  145,   33,   31,   40,   77,  167,   27,   60,   11,  165,\n",
              "          71,  171,  110,   13,   22,   22,   32],\n",
              "       [ 211,  592,   39,   54,   64,  116,  337,   48,  113,   29,  195,\n",
              "          94,  252,  150,   23,   37,   21,   64],\n",
              "       [  36,   34,  659,   27,   16,   31,   45,   22,   87,   93,   32,\n",
              "          44,   20,   45,   12,   33,   51,   16],\n",
              "       [ 106,   92,  133, 4477,   60,  164,  133,  111,  330,   81,   80,\n",
              "         433,  100,   94,  231,   71,  116,   80],\n",
              "       [  42,  112,   20,   17,  650,   64,  165,   36,   56,   16,   32,\n",
              "          43,   63,   53,   23,   34,    7,   21],\n",
              "       [  25,   16,   14,   13,   22,  466,   40,   48,   18,    5,   25,\n",
              "         215,   24,   39,    9,   44,    1,   18],\n",
              "       [ 489,  627,   80,  101,  208,  194, 1962,   93,  195,   44,  303,\n",
              "         150,  549,  467,   73,  105,   47,  141],\n",
              "       [  44,   40,   46,   47,   37,  181,   45, 1600,   53,   19,   44,\n",
              "         235,   24,   38,   32,  313,   29,   25],\n",
              "       [ 205,  214,  190,  275,  116,  189,  294,  148, 2100,  116,  196,\n",
              "         236,  196,  205,  104,   91,  138,  141],\n",
              "       [   6,   26,  103,   25,    4,    7,   16,   13,   48,  512,   10,\n",
              "          12,   11,   21,   19,    6,   29,    4],\n",
              "       [  98,   72,   22,   36,   24,   38,   72,   29,   49,   14,  313,\n",
              "          52,   59,   62,   13,   24,   16,   35],\n",
              "       [ 160,  159,  188,  353,  118, 1043,  205,  503,  296,   83,  177,\n",
              "        2413,  133,  162,  132,  382,   86,  125],\n",
              "       [ 309,  290,   32,   42,   49,   69,  324,   28,   79,   26,  133,\n",
              "          64, 1222,  243,   39,   30,   17,   78],\n",
              "       [ 218,  194,   65,   59,   69,  137,  305,   29,  100,   29,  177,\n",
              "          93,  235,  911,   37,   78,   43,  124],\n",
              "       [   8,   12,   13,  102,   14,   10,   15,    9,   26,    8,    8,\n",
              "          31,   13,   19,  661,    7,   10,   10],\n",
              "       [  10,    9,   13,   10,    6,   60,   17,  104,   14,    4,    4,\n",
              "          65,   14,    7,    5,  318,   17,    5],\n",
              "       [   4,    3,   27,   20,    6,    7,    7,    9,   32,   19,    5,\n",
              "          11,    9,    8,    3,   10,  264,    5],\n",
              "       [   7,   10,    1,    2,    7,    5,    8,    3,    8,    1,    5,\n",
              "           1,   19,   19,    3,    6,    2,   75]])"
            ]
          },
          "execution_count": 37,
          "metadata": {},
          "output_type": "execute_result"
        }
      ],
      "source": [
        "from sklearn.metrics import confusion_matrix\n",
        "cm = confusion_matrix(classes_x , Y_test_labels )\n",
        "cm"
      ]
    },
    {
      "cell_type": "code",
      "execution_count": null,
      "metadata": {
        "colab": {
          "base_uri": "https://localhost:8080/"
        },
        "id": "kpqTEsJ0eua3",
        "outputId": "5ac10087-60aa-45e1-c84d-0bd6a307c1d1"
      },
      "outputs": [
        {
          "name": "stdout",
          "output_type": "stream",
          "text": [
            "              precision    recall  f1-score   support\n",
            "\n",
            "           0       0.39      0.28      0.33      2753\n",
            "           1       0.24      0.22      0.23      2647\n",
            "           2       0.51      0.39      0.44      1678\n",
            "           3       0.65      0.79      0.71      5691\n",
            "           4       0.45      0.43      0.44      1510\n",
            "           5       0.45      0.16      0.24      2858\n",
            "           6       0.34      0.47      0.39      4157\n",
            "           7       0.56      0.56      0.56      2860\n",
            "           8       0.41      0.57      0.48      3664\n",
            "           9       0.59      0.46      0.52      1110\n",
            "          10       0.30      0.16      0.21      1904\n",
            "          11       0.36      0.57      0.44      4263\n",
            "          12       0.40      0.39      0.39      3114\n",
            "          13       0.31      0.34      0.33      2653\n",
            "          14       0.68      0.46      0.55      1432\n",
            "          15       0.47      0.20      0.28      1611\n",
            "          16       0.59      0.29      0.39       916\n",
            "          17       0.41      0.08      0.13       999\n",
            "\n",
            "    accuracy                           0.44     45820\n",
            "   macro avg       0.45      0.38      0.39     45820\n",
            "weighted avg       0.44      0.44      0.42     45820\n",
            "\n"
          ]
        }
      ],
      "source": [
        "print(classification_report(Y_test_labels, classes_x))"
      ]
    },
    {
      "cell_type": "code",
      "execution_count": null,
      "metadata": {
        "id": "HgQi3YrwexP3"
      },
      "outputs": [],
      "source": [
        ""
      ]
    },
    {
      "cell_type": "code",
      "execution_count": null,
      "metadata": {
        "id": "8S24UmA3Q_fq"
      },
      "outputs": [],
      "source": [
        ""
      ]
    },
    {
      "cell_type": "code",
      "execution_count": null,
      "metadata": {
        "id": "Xv3A3sAJRCnH"
      },
      "outputs": [],
      "source": [
        ""
      ]
    }
  ],
  "metadata": {
    "colab": {
      "collapsed_sections": [],
      "name": "deep_learning_model_lstm_aim.ipynb",
      "provenance": []
    },
    "kernelspec": {
      "display_name": "Python 3",
      "name": "python3"
    },
    "language_info": {
      "name": "python"
    }
  },
  "nbformat": 4,
  "nbformat_minor": 0
}